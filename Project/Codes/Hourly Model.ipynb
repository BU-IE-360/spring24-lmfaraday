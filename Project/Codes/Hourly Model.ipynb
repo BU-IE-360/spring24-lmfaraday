{
 "cells": [
  {
   "cell_type": "code",
   "execution_count": null,
   "metadata": {},
   "outputs": [],
   "source": [
    "import pandas as pd\n",
    "import numpy as np\n",
    "import statsmodels.api as sm\n",
    "from datetime import timedelta "
   ]
  },
  {
   "cell_type": "code",
   "execution_count": null,
   "metadata": {},
   "outputs": [],
   "source": [
    "def accu(actual, forecast):\n",
    "    error = actual - forecast\n",
    "    mean = np.mean(actual)\n",
    "    sd = np.std(actual)\n",
    "    CV = sd / mean\n",
    "    FBias = np.sum(error) / np.sum(actual)\n",
    "    MAPE = np.sum(np.abs(error / (actual+1))) / len(actual)\n",
    "    RMSE = np.sqrt(np.sum(error ** 2) / len(actual))\n",
    "    MAD = np.sum(np.abs(error)) / len(actual)\n",
    "    MADP = np.sum(np.abs(error)) / np.sum(np.abs(actual))\n",
    "    WMAPE = MAD / mean\n",
    "    \n",
    "    result_dict = {\n",
    "        \"n\": len(actual),\n",
    "        \"mean\": mean,\n",
    "        \"sd\": sd,\n",
    "        \"CV\": CV,\n",
    "        \"FBias\": FBias,\n",
    "        \"MAPE\": MAPE,\n",
    "        \"RMSE\": RMSE,\n",
    "        \"MAD\": MAD,\n",
    "        \"MADP\": MADP,\n",
    "        \"WMAPE\": WMAPE\n",
    "    }\n",
    "    \n",
    "    return pd.DataFrame(result_dict, index=[0])"
   ]
  },
  {
   "cell_type": "code",
   "execution_count": null,
   "metadata": {},
   "outputs": [],
   "source": [
    "production_data_loc = \"data/production.csv\"\n",
    "weather_data_loc = \"data/processed_weather.csv\""
   ]
  },
  {
   "cell_type": "code",
   "execution_count": null,
   "metadata": {},
   "outputs": [],
   "source": [
    "production_df = pd.read_csv(production_data_loc)\n",
    "production_df[\"date\"] = pd.to_datetime(production_df[\"date\"])\n",
    "production_df = production_df.iloc[4:]\n",
    "production_df = production_df.drop_duplicates()\n",
    "production_df.reset_index(drop=True, inplace=True)\n",
    "production_df[\"production\"] = production_df[\"production\"].apply(lambda x: 10 if x > 10 else x)\n",
    "date = pd.to_datetime(\"2024-05-12\")\n",
    "production_df = production_df[production_df[\"date\"] != date]\n",
    "\n",
    "production_df"
   ]
  },
  {
   "cell_type": "code",
   "execution_count": null,
   "metadata": {},
   "outputs": [],
   "source": [
    "weather_df = pd.read_csv(weather_data_loc)\n",
    "weather_df[\"date\"] = pd.to_datetime(weather_df[\"date\"], format='%Y-%m-%d')\n",
    "weather_df = weather_df.sort_values(by=['date', 'hour'])\n",
    "weather_df.reset_index(drop=True, inplace=True) \n",
    "\n",
    "columns_to_pivot = weather_df.columns[4:]\n",
    "\n",
    "for col in columns_to_pivot:\n",
    "    weather_df[f'{col}_identifier'] = col + \"_\" + weather_df['lat'].astype(str) + \"_\" + weather_df['lon'].astype(str)\n",
    "\n",
    "pivoted_dfs = []\n",
    "for col in columns_to_pivot:\n",
    "    pivoted_df = pd.pivot(\n",
    "        weather_df,\n",
    "        index=['date', 'hour'],\n",
    "        columns=f'{col}_identifier',\n",
    "        values=col\n",
    "    )\n",
    "    pivoted_df.columns.name = None \n",
    "    pivoted_df.reset_index(inplace=True)  \n",
    "    pivoted_dfs.append(pivoted_df)\n",
    "\n",
    "result_df = pivoted_dfs[0]\n",
    "for df in pivoted_dfs[1:]:\n",
    "    result_df = result_df.merge(df, on=['date', 'hour'], how='outer')\n",
    "    \n",
    "df = result_df.iloc[:, :252]\n",
    "\n",
    "df"
   ]
  },
  {
   "cell_type": "code",
   "execution_count": null,
   "metadata": {},
   "outputs": [],
   "source": [
    "end_date = production_df[\"date\"].iloc[-1]\n",
    "end_hour = production_df[\"hour\"].iloc[-1]\n",
    "\n",
    "predict_df = df.copy()\n",
    "\n",
    "cut_off_index = df[(df[\"date\"] == end_date) & (df[\"hour\"] == end_hour)].index.min()\n",
    "df = df.loc[:cut_off_index]\n",
    "df = pd.merge(df, production_df, on=[\"date\", \"hour\"], how = \"inner\")\n",
    "df.fillna(method='ffill', inplace=True)\n",
    "df"
   ]
  },
  {
   "cell_type": "code",
   "execution_count": null,
   "metadata": {},
   "outputs": [],
   "source": [
    "for hour in sorted(df['hour'].unique()):\n",
    "    mask = df[\"hour\"] == hour\n",
    "    df_hour = df[mask]\n",
    "    print(f\"Hour {hour} Mean Production = {df_hour.production.mean()}\")"
   ]
  },
  {
   "cell_type": "markdown",
   "metadata": {},
   "source": [
    "# Hour 5"
   ]
  },
  {
   "cell_type": "code",
   "execution_count": null,
   "metadata": {},
   "outputs": [],
   "source": [
    "mask = df[\"hour\"] == 5\n",
    "df_hour = df[mask]\n",
    "df_hour.reset_index(drop=True, inplace=True)\n",
    "df_hour_train = df_hour[df_hour[\"date\"] < \"2024\"]\n",
    "df_hour_test = df_hour[df_hour[\"date\"] >= \"2024\"]\n",
    "df_hour_train.reset_index(drop=True, inplace=True)\n",
    "df_hour_test.reset_index(drop=True, inplace=True)\n",
    "\n",
    "df_hour"
   ]
  },
  {
   "cell_type": "code",
   "execution_count": null,
   "metadata": {},
   "outputs": [],
   "source": [
    "df_hour_month_train = df_hour_train[\"date\"].dt.month\n",
    "df_hour_month_train = pd.get_dummies(df_hour_month_train, prefix=\"month\")\n",
    "df_hour_month_train.drop(columns=[\"month_12\"], inplace=True)\n",
    "df_hour_month_train\n",
    "\n",
    "df_model_hour = df_hour_month_train.copy()\n",
    "df_model_hour[\"trend\"] = np.arange(len(df_model_hour))\n",
    "df_model_hour = sm.add_constant(df_model_hour)\n",
    "\n",
    "\n",
    "features_train = df_hour_train.copy()\n",
    "features_train.drop(columns=[\"date\", \"hour\", \"production\"], inplace=True)\n",
    "lst = weather_df.columns[4:-10]\n",
    "for feature in lst:\n",
    "    feature_col = df_hour_train.columns[df_hour_train.columns.str.contains(feature)]\n",
    "    features_train[f\"mean_{feature}\"] = df_hour_train[feature_col].mean(axis=1)\n",
    "features_train = features_train.filter(regex=r'^mean_')\n",
    "features_train\n",
    "\n",
    "df_model_hour= pd.concat([df_model_hour, features_train], axis=1)\n",
    "\n",
    "df_model_hour"
   ]
  },
  {
   "cell_type": "code",
   "execution_count": null,
   "metadata": {},
   "outputs": [],
   "source": [
    "lm = sm.OLS(df_hour_train[\"production\"], df_model_hour)\n",
    "result = lm.fit()\n",
    "print(result.summary())"
   ]
  },
  {
   "cell_type": "code",
   "execution_count": null,
   "metadata": {},
   "outputs": [],
   "source": [
    "drop_lst_hour_5 = [\"trend\", \"mean_uswrf_surface\", \"mean_csnow_surface\", \"mean_tcdc_entire.atmosphere\", \"mean_tcdc_middle.cloud.layer\"]\n",
    "\n",
    "df_model_hour.drop(columns = drop_lst_hour_5, inplace = True)\n",
    "\n",
    "df_model_hour[\"lag_2\"] = df_hour_train[\"production\"].shift(2, fill_value=0)\n",
    "df_model_hour[\"ma_3\"] = df_hour_train[\"production\"].rolling(window=3).mean()\n",
    "df_model_hour.fillna(method='bfill', inplace=True)"
   ]
  },
  {
   "cell_type": "code",
   "execution_count": null,
   "metadata": {},
   "outputs": [],
   "source": [
    "lm = sm.OLS(df_hour_train[\"production\"], df_model_hour)\n",
    "model_hour_5 = lm.fit()\n",
    "print(model_hour_5.summary())"
   ]
  },
  {
   "cell_type": "code",
   "execution_count": null,
   "metadata": {},
   "outputs": [],
   "source": [
    "accu(df_hour_train[\"production\"], model_hour_5.predict())"
   ]
  },
  {
   "cell_type": "code",
   "execution_count": null,
   "metadata": {},
   "outputs": [],
   "source": [
    "df_hour_month_test = df_hour_test[\"date\"].dt.month\n",
    "df_hour_month_test = pd.get_dummies(df_hour_month_test, prefix=\"month\")\n",
    "for i in range(5,12):\n",
    "    df_hour_month_test[f\"month_{i}\"] = 0\n",
    "\n",
    "df_test = df_hour_month_test.copy()\n",
    "df_test[\"trend\"] = np.arange(len(df_test))\n",
    "df_test = sm.add_constant(df_test)\n",
    "\n",
    "features_test = df_hour_test.copy()\n",
    "features_test.drop(columns=[\"date\", \"hour\", \"production\"], inplace=True)\n",
    "lst = weather_df.columns[4:-10]\n",
    "for feature in lst:\n",
    "    feature_col = df_hour_test.columns[df_hour_test.columns.str.contains(feature)]\n",
    "    features_test[f\"mean_{feature}\"] = df_hour_test[feature_col].mean(axis=1)\n",
    "features_test = features_test.filter(regex=r'^mean_')\n",
    "features_test\n",
    "\n",
    "df_test.reset_index(drop=True, inplace=True)\n",
    "features_test.reset_index(drop=True, inplace=True)\n",
    "df_test = pd.concat([df_test, features_test], axis=1)\n",
    "\n",
    "df_test.drop(columns = drop_lst_hour_5, inplace = True)\n",
    "\n",
    "df_test[\"lag_2\"] = df_hour_test[\"production\"].shift(2, fill_value=0)\n",
    "df_test[\"ma_3\"] = df_hour_test[\"production\"].rolling(window=3).mean()\n",
    "df_test.fillna(method='bfill', inplace=True)\n",
    "\n",
    "df_test"
   ]
  },
  {
   "cell_type": "code",
   "execution_count": null,
   "metadata": {},
   "outputs": [],
   "source": [
    "accu(df_hour_test[\"production\"], model_hour_5.predict(df_test))"
   ]
  },
  {
   "cell_type": "code",
   "execution_count": null,
   "metadata": {},
   "outputs": [],
   "source": [
    "df_hour_month = df_hour[\"date\"].dt.month\n",
    "df_hour_month = pd.get_dummies(df_hour_month, prefix=\"month\")\n",
    "for i in range(5,12):\n",
    "    df_hour_month[f\"month_{i}\"] = 0\n",
    "\n",
    "df_predict = df_hour_month.copy()\n",
    "df_predict[\"trend\"] = np.arange(len(df_predict))\n",
    "df_predict = sm.add_constant(df_predict)\n",
    "\n",
    "features = df_hour.copy()\n",
    "features.drop(columns=[\"date\", \"hour\", \"production\"], inplace=True)\n",
    "lst = weather_df.columns[4:-10]\n",
    "for feature in lst:\n",
    "    feature_col = df_hour.columns[df_hour.columns.str.contains(feature)]\n",
    "    features[f\"mean_{feature}\"] = df_hour[feature_col].mean(axis=1)\n",
    "features = features.filter(regex=r'^mean_')\n",
    "\n",
    "df_predict.reset_index(drop=True, inplace=True)\n",
    "features.reset_index(drop=True, inplace=True)\n",
    "df_predict = pd.concat([df_predict, features], axis=1)\n",
    "\n",
    "df_predict.drop(columns = drop_lst_hour_5, inplace = True)\n",
    "\n",
    "df_predict[\"lag_2\"] = df_hour[\"production\"].shift(2, fill_value=0)\n",
    "df_predict[\"ma_3\"] = df_hour[\"production\"].rolling(window=3).mean()\n",
    "df_predict.fillna(method='bfill', inplace=True)\n",
    "\n",
    "df_predict"
   ]
  },
  {
   "cell_type": "code",
   "execution_count": null,
   "metadata": {},
   "outputs": [],
   "source": [
    "lm = sm.OLS(df_hour[\"production\"], df_predict)\n",
    "model_hour_5 = lm.fit()\n",
    "print(model_hour_5.summary())"
   ]
  },
  {
   "cell_type": "code",
   "execution_count": null,
   "metadata": {},
   "outputs": [],
   "source": [
    "accu(df_hour[\"production\"], model_hour_5.predict())"
   ]
  },
  {
   "cell_type": "markdown",
   "metadata": {},
   "source": [
    "# Hour 6"
   ]
  },
  {
   "cell_type": "code",
   "execution_count": null,
   "metadata": {},
   "outputs": [],
   "source": [
    "mask = df[\"hour\"] == 6\n",
    "df_hour = df[mask]\n",
    "df_hour.reset_index(drop=True, inplace=True)\n",
    "df_hour_train = df_hour[df_hour[\"date\"] < \"2024\"]\n",
    "df_hour_test = df_hour[df_hour[\"date\"] >= \"2024\"]\n",
    "df_hour_train.reset_index(drop=True, inplace=True)\n",
    "df_hour_test.reset_index(drop=True, inplace=True)\n",
    "\n",
    "df_hour"
   ]
  },
  {
   "cell_type": "code",
   "execution_count": null,
   "metadata": {},
   "outputs": [],
   "source": [
    "df_hour_month_train = df_hour_train[\"date\"].dt.month\n",
    "df_hour_month_train = pd.get_dummies(df_hour_month_train, prefix=\"month\")\n",
    "df_hour_month_train.drop(columns=[\"month_12\"], inplace=True)\n",
    "df_hour_month_train\n",
    "\n",
    "df_model_hour = df_hour_month_train.copy()\n",
    "df_model_hour[\"trend\"] = np.arange(len(df_model_hour))\n",
    "df_model_hour = sm.add_constant(df_model_hour)\n",
    "\n",
    "\n",
    "features_train = df_hour_train.copy()\n",
    "features_train.drop(columns=[\"date\", \"hour\", \"production\"], inplace=True)\n",
    "lst = weather_df.columns[4:-10]\n",
    "for feature in lst:\n",
    "    feature_col = df_hour_train.columns[df_hour_train.columns.str.contains(feature)]\n",
    "    features_train[f\"mean_{feature}\"] = df_hour_train[feature_col].mean(axis=1)\n",
    "features_train = features_train.filter(regex=r'^mean_')\n",
    "features_train\n",
    "\n",
    "df_model_hour= pd.concat([df_model_hour, features_train], axis=1)\n",
    "\n",
    "df_model_hour"
   ]
  },
  {
   "cell_type": "code",
   "execution_count": null,
   "metadata": {},
   "outputs": [],
   "source": [
    "lm = sm.OLS(df_hour_train[\"production\"], df_model_hour)\n",
    "result = lm.fit()\n",
    "print(result.summary())"
   ]
  },
  {
   "cell_type": "code",
   "execution_count": null,
   "metadata": {},
   "outputs": [],
   "source": [
    "drop_lst_hour_6 = [\"mean_dswrf_surface\", \"mean_tcdc_middle.cloud.layer\", \"mean_tcdc_high.cloud.layer\", \"mean_uswrf_surface\"]\n",
    "\n",
    "df_model_hour.drop(columns = drop_lst_hour_6, inplace = True)\n",
    "\n",
    "df_model_hour[\"lag_2\"] = df_hour_train[\"production\"].shift(2, fill_value=0)\n",
    "df_model_hour[\"ma_3\"] = df_hour_train[\"production\"].rolling(window=3).mean()\n",
    "df_model_hour.fillna(method='bfill', inplace=True)"
   ]
  },
  {
   "cell_type": "code",
   "execution_count": null,
   "metadata": {},
   "outputs": [],
   "source": [
    "lm = sm.OLS(df_hour_train[\"production\"], df_model_hour)\n",
    "model_hour_6 = lm.fit()\n",
    "print(model_hour_6.summary())"
   ]
  },
  {
   "cell_type": "code",
   "execution_count": null,
   "metadata": {},
   "outputs": [],
   "source": [
    "accu(df_hour_train[\"production\"], model_hour_6.predict())"
   ]
  },
  {
   "cell_type": "code",
   "execution_count": null,
   "metadata": {},
   "outputs": [],
   "source": [
    "df_hour_month_test = df_hour_test[\"date\"].dt.month\n",
    "df_hour_month_test = pd.get_dummies(df_hour_month_test, prefix=\"month\")\n",
    "for i in range(5,12):\n",
    "    df_hour_month_test[f\"month_{i}\"] = 0\n",
    "\n",
    "df_test = df_hour_month_test.copy()\n",
    "df_test[\"trend\"] = np.arange(len(df_test))\n",
    "df_test = sm.add_constant(df_test)\n",
    "\n",
    "features_test = df_hour_test.copy()\n",
    "features_test.drop(columns=[\"date\", \"hour\", \"production\"], inplace=True)\n",
    "lst = weather_df.columns[4:-10]\n",
    "for feature in lst:\n",
    "    feature_col = df_hour_test.columns[df_hour_test.columns.str.contains(feature)]\n",
    "    features_test[f\"mean_{feature}\"] = df_hour_test[feature_col].mean(axis=1)\n",
    "features_test = features_test.filter(regex=r'^mean_')\n",
    "features_test\n",
    "\n",
    "df_test.reset_index(drop=True, inplace=True)\n",
    "features_test.reset_index(drop=True, inplace=True)\n",
    "df_test = pd.concat([df_test, features_test], axis=1)\n",
    "\n",
    "df_test.drop(columns = drop_lst_hour_6, inplace = True)\n",
    "\n",
    "df_test[\"lag_2\"] = df_hour_test[\"production\"].shift(2, fill_value=0)\n",
    "df_test[\"ma_3\"] = df_hour_test[\"production\"].rolling(window=3).mean()\n",
    "df_test.fillna(method='bfill', inplace=True)\n",
    "\n",
    "df_test"
   ]
  },
  {
   "cell_type": "code",
   "execution_count": null,
   "metadata": {},
   "outputs": [],
   "source": [
    "accu(df_hour_test[\"production\"], model_hour_6.predict(df_test))"
   ]
  },
  {
   "cell_type": "code",
   "execution_count": null,
   "metadata": {},
   "outputs": [],
   "source": [
    "df_hour_month = df_hour[\"date\"].dt.month\n",
    "df_hour_month = pd.get_dummies(df_hour_month, prefix=\"month\")\n",
    "for i in range(5,12):\n",
    "    df_hour_month[f\"month_{i}\"] = 0\n",
    "\n",
    "df_predict = df_hour_month.copy()\n",
    "df_predict[\"trend\"] = np.arange(len(df_predict))\n",
    "df_predict = sm.add_constant(df_predict)\n",
    "\n",
    "features = df_hour.copy()\n",
    "features.drop(columns=[\"date\", \"hour\", \"production\"], inplace=True)\n",
    "lst = weather_df.columns[4:-10]\n",
    "for feature in lst:\n",
    "    feature_col = df_hour.columns[df_hour.columns.str.contains(feature)]\n",
    "    features[f\"mean_{feature}\"] = df_hour[feature_col].mean(axis=1)\n",
    "features = features.filter(regex=r'^mean_')\n",
    "\n",
    "df_predict.reset_index(drop=True, inplace=True)\n",
    "features.reset_index(drop=True, inplace=True)\n",
    "df_predict = pd.concat([df_predict, features], axis=1)\n",
    "\n",
    "df_predict.drop(columns = drop_lst_hour_6, inplace = True)\n",
    "\n",
    "df_predict[\"lag_2\"] = df_hour[\"production\"].shift(2, fill_value=0)\n",
    "df_predict[\"ma_3\"] = df_hour[\"production\"].rolling(window=3).mean()\n",
    "df_predict.fillna(method='bfill', inplace=True)\n",
    "\n",
    "df_predict"
   ]
  },
  {
   "cell_type": "code",
   "execution_count": null,
   "metadata": {},
   "outputs": [],
   "source": [
    "lm = sm.OLS(df_hour[\"production\"], df_predict)\n",
    "model_hour_6 = lm.fit()\n",
    "print(model_hour_6.summary())"
   ]
  },
  {
   "cell_type": "code",
   "execution_count": null,
   "metadata": {},
   "outputs": [],
   "source": [
    "accu(df_hour[\"production\"], model_hour_6.predict())"
   ]
  },
  {
   "cell_type": "markdown",
   "metadata": {},
   "source": [
    "# Hour 7"
   ]
  },
  {
   "cell_type": "code",
   "execution_count": null,
   "metadata": {},
   "outputs": [],
   "source": [
    "mask = df[\"hour\"] == 7\n",
    "df_hour = df[mask]\n",
    "df_hour.reset_index(drop=True, inplace=True)\n",
    "df_hour_train = df_hour[df_hour[\"date\"] < \"2024\"]\n",
    "df_hour_test = df_hour[df_hour[\"date\"] >= \"2024\"]\n",
    "df_hour_train.reset_index(drop=True, inplace=True)\n",
    "df_hour_test.reset_index(drop=True, inplace=True)\n",
    "\n",
    "df_hour"
   ]
  },
  {
   "cell_type": "code",
   "execution_count": null,
   "metadata": {},
   "outputs": [],
   "source": [
    "df_hour_month_train = df_hour_train[\"date\"].dt.month\n",
    "df_hour_month_train = pd.get_dummies(df_hour_month_train, prefix=\"month\")\n",
    "df_hour_month_train.drop(columns=[\"month_12\"], inplace=True)\n",
    "df_hour_month_train\n",
    "\n",
    "df_model_hour = df_hour_month_train.copy()\n",
    "df_model_hour[\"trend\"] = np.arange(len(df_model_hour))\n",
    "df_model_hour = sm.add_constant(df_model_hour)\n",
    "\n",
    "\n",
    "features_train = df_hour_train.copy()\n",
    "features_train.drop(columns=[\"date\", \"hour\", \"production\"], inplace=True)\n",
    "lst = weather_df.columns[4:-10]\n",
    "for feature in lst:\n",
    "    feature_col = df_hour_train.columns[df_hour_train.columns.str.contains(feature)]\n",
    "    features_train[f\"mean_{feature}\"] = df_hour_train[feature_col].mean(axis=1)\n",
    "features_train = features_train.filter(regex=r'^mean_')\n",
    "features_train\n",
    "\n",
    "df_model_hour= pd.concat([df_model_hour, features_train], axis=1)\n",
    "\n",
    "df_model_hour"
   ]
  },
  {
   "cell_type": "code",
   "execution_count": null,
   "metadata": {},
   "outputs": [],
   "source": [
    "lm = sm.OLS(df_hour_train[\"production\"], df_model_hour)\n",
    "result = lm.fit()\n",
    "print(result.summary())"
   ]
  },
  {
   "cell_type": "code",
   "execution_count": null,
   "metadata": {},
   "outputs": [],
   "source": [
    "drop_lst_hour_7 = [\"mean_dswrf_surface\", \"mean_tcdc_high.cloud.layer\", \"mean_uswrf_top_of_atmosphere\", \"mean_tmp_surface\"]\n",
    "\n",
    "df_model_hour.drop(columns = drop_lst_hour_7, inplace = True)\n",
    "\n",
    "df_model_hour[\"lag_2\"] = df_hour_train[\"production\"].shift(2, fill_value=0)\n",
    "df_model_hour[\"ma_3\"] = df_hour_train[\"production\"].rolling(window=3).mean()\n",
    "df_model_hour.fillna(method='bfill', inplace=True)"
   ]
  },
  {
   "cell_type": "code",
   "execution_count": null,
   "metadata": {},
   "outputs": [],
   "source": [
    "lm = sm.OLS(df_hour_train[\"production\"], df_model_hour)\n",
    "model_hour_7 = lm.fit()\n",
    "print(model_hour_7.summary())"
   ]
  },
  {
   "cell_type": "code",
   "execution_count": null,
   "metadata": {},
   "outputs": [],
   "source": [
    "accu(df_hour_train[\"production\"], model_hour_7.predict())"
   ]
  },
  {
   "cell_type": "code",
   "execution_count": null,
   "metadata": {},
   "outputs": [],
   "source": [
    "df_hour_month_test = df_hour_test[\"date\"].dt.month\n",
    "df_hour_month_test = pd.get_dummies(df_hour_month_test, prefix=\"month\")\n",
    "for i in range(5,12):\n",
    "    df_hour_month_test[f\"month_{i}\"] = 0\n",
    "\n",
    "df_test = df_hour_month_test.copy()\n",
    "df_test[\"trend\"] = np.arange(len(df_test))\n",
    "df_test = sm.add_constant(df_test)\n",
    "\n",
    "features_test = df_hour_test.copy()\n",
    "features_test.drop(columns=[\"date\", \"hour\", \"production\"], inplace=True)\n",
    "lst = weather_df.columns[4:-10]\n",
    "for feature in lst:\n",
    "    feature_col = df_hour_test.columns[df_hour_test.columns.str.contains(feature)]\n",
    "    features_test[f\"mean_{feature}\"] = df_hour_test[feature_col].mean(axis=1)\n",
    "features_test = features_test.filter(regex=r'^mean_')\n",
    "features_test\n",
    "\n",
    "df_test.reset_index(drop=True, inplace=True)\n",
    "features_test.reset_index(drop=True, inplace=True)\n",
    "df_test = pd.concat([df_test, features_test], axis=1)\n",
    "\n",
    "df_test.drop(columns = drop_lst_hour_7, inplace = True)\n",
    "\n",
    "df_test[\"lag_2\"] = df_hour_test[\"production\"].shift(2, fill_value=0)\n",
    "df_test[\"ma_3\"] = df_hour_test[\"production\"].rolling(window=3).mean()\n",
    "df_test.fillna(method='bfill', inplace=True)\n",
    "\n",
    "df_test"
   ]
  },
  {
   "cell_type": "code",
   "execution_count": null,
   "metadata": {},
   "outputs": [],
   "source": [
    "accu(df_hour_test[\"production\"], model_hour_7.predict(df_test))"
   ]
  },
  {
   "cell_type": "code",
   "execution_count": null,
   "metadata": {},
   "outputs": [],
   "source": [
    "df_hour_month = df_hour[\"date\"].dt.month\n",
    "df_hour_month = pd.get_dummies(df_hour_month, prefix=\"month\")\n",
    "for i in range(5,12):\n",
    "    df_hour_month[f\"month_{i}\"] = 0\n",
    "\n",
    "df_predict = df_hour_month.copy()\n",
    "df_predict[\"trend\"] = np.arange(len(df_predict))\n",
    "df_predict = sm.add_constant(df_predict)\n",
    "\n",
    "features = df_hour.copy()\n",
    "features.drop(columns=[\"date\", \"hour\", \"production\"], inplace=True)\n",
    "lst = weather_df.columns[4:-10]\n",
    "for feature in lst:\n",
    "    feature_col = df_hour.columns[df_hour.columns.str.contains(feature)]\n",
    "    features[f\"mean_{feature}\"] = df_hour[feature_col].mean(axis=1)\n",
    "features = features.filter(regex=r'^mean_')\n",
    "\n",
    "df_predict.reset_index(drop=True, inplace=True)\n",
    "features.reset_index(drop=True, inplace=True)\n",
    "df_predict = pd.concat([df_predict, features], axis=1)\n",
    "\n",
    "df_predict.drop(columns = drop_lst_hour_7, inplace = True)\n",
    "\n",
    "df_predict[\"lag_2\"] = df_hour[\"production\"].shift(2, fill_value=0)\n",
    "df_predict[\"ma_3\"] = df_hour[\"production\"].rolling(window=3).mean()\n",
    "df_predict.fillna(method='bfill', inplace=True)\n",
    "\n",
    "df_predict"
   ]
  },
  {
   "cell_type": "code",
   "execution_count": null,
   "metadata": {},
   "outputs": [],
   "source": [
    "lm = sm.OLS(df_hour[\"production\"], df_predict)\n",
    "model_hour_7 = lm.fit()\n",
    "print(model_hour_7.summary())"
   ]
  },
  {
   "cell_type": "code",
   "execution_count": null,
   "metadata": {},
   "outputs": [],
   "source": [
    "accu(df_hour[\"production\"], model_hour_7.predict())"
   ]
  },
  {
   "cell_type": "markdown",
   "metadata": {},
   "source": [
    "# Hour 8"
   ]
  },
  {
   "cell_type": "code",
   "execution_count": null,
   "metadata": {},
   "outputs": [],
   "source": [
    "mask = df[\"hour\"] == 8\n",
    "df_hour = df[mask]\n",
    "df_hour.reset_index(drop=True, inplace=True)\n",
    "df_hour_train = df_hour[df_hour[\"date\"] < \"2024\"]\n",
    "df_hour_test = df_hour[df_hour[\"date\"] >= \"2024\"]\n",
    "df_hour_train.reset_index(drop=True, inplace=True)\n",
    "df_hour_test.reset_index(drop=True, inplace=True)\n",
    "\n",
    "df_hour"
   ]
  },
  {
   "cell_type": "code",
   "execution_count": null,
   "metadata": {},
   "outputs": [],
   "source": [
    "df_hour_month_train = df_hour_train[\"date\"].dt.month\n",
    "df_hour_month_train = pd.get_dummies(df_hour_month_train, prefix=\"month\")\n",
    "df_hour_month_train.drop(columns=[\"month_12\"], inplace=True)\n",
    "df_hour_month_train\n",
    "\n",
    "df_model_hour = df_hour_month_train.copy()\n",
    "df_model_hour[\"trend\"] = np.arange(len(df_model_hour))\n",
    "df_model_hour = sm.add_constant(df_model_hour)\n",
    "\n",
    "\n",
    "features_train = df_hour_train.copy()\n",
    "features_train.drop(columns=[\"date\", \"hour\", \"production\"], inplace=True)\n",
    "lst = weather_df.columns[4:-10]\n",
    "for feature in lst:\n",
    "    feature_col = df_hour_train.columns[df_hour_train.columns.str.contains(feature)]\n",
    "    features_train[f\"mean_{feature}\"] = df_hour_train[feature_col].mean(axis=1)\n",
    "features_train = features_train.filter(regex=r'^mean_')\n",
    "features_train\n",
    "\n",
    "df_model_hour= pd.concat([df_model_hour, features_train], axis=1)\n",
    "\n",
    "df_model_hour"
   ]
  },
  {
   "cell_type": "code",
   "execution_count": null,
   "metadata": {},
   "outputs": [],
   "source": [
    "lm = sm.OLS(df_hour_train[\"production\"], df_model_hour)\n",
    "result = lm.fit()\n",
    "print(result.summary())"
   ]
  },
  {
   "cell_type": "code",
   "execution_count": null,
   "metadata": {},
   "outputs": [],
   "source": [
    "drop_lst_hour_8 = [\"mean_dlwrf_surface\"]\n",
    "\n",
    "df_model_hour.drop(columns = drop_lst_hour_8, inplace = True)\n",
    "\n",
    "df_model_hour[\"lag_2\"] = df_hour_train[\"production\"].shift(2, fill_value=0)\n",
    "df_model_hour[\"ma_3\"] = df_hour_train[\"production\"].rolling(window=3).mean()\n",
    "df_model_hour.fillna(method='bfill', inplace=True)"
   ]
  },
  {
   "cell_type": "code",
   "execution_count": null,
   "metadata": {},
   "outputs": [],
   "source": [
    "lm = sm.OLS(df_hour_train[\"production\"], df_model_hour)\n",
    "model_hour_8 = lm.fit()\n",
    "print(model_hour_8.summary())"
   ]
  },
  {
   "cell_type": "code",
   "execution_count": null,
   "metadata": {},
   "outputs": [],
   "source": [
    "accu(df_hour_train[\"production\"], model_hour_8.predict())"
   ]
  },
  {
   "cell_type": "code",
   "execution_count": null,
   "metadata": {},
   "outputs": [],
   "source": [
    "df_hour_month_test = df_hour_test[\"date\"].dt.month\n",
    "df_hour_month_test = pd.get_dummies(df_hour_month_test, prefix=\"month\")\n",
    "for i in range(5,12):\n",
    "    df_hour_month_test[f\"month_{i}\"] = 0\n",
    "\n",
    "df_test = df_hour_month_test.copy()\n",
    "df_test[\"trend\"] = np.arange(len(df_test))\n",
    "df_test = sm.add_constant(df_test)\n",
    "\n",
    "features_test = df_hour_test.copy()\n",
    "features_test.drop(columns=[\"date\", \"hour\", \"production\"], inplace=True)\n",
    "lst = weather_df.columns[4:-10]\n",
    "for feature in lst:\n",
    "    feature_col = df_hour_test.columns[df_hour_test.columns.str.contains(feature)]\n",
    "    features_test[f\"mean_{feature}\"] = df_hour_test[feature_col].mean(axis=1)\n",
    "features_test = features_test.filter(regex=r'^mean_')\n",
    "features_test\n",
    "\n",
    "df_test.reset_index(drop=True, inplace=True)\n",
    "features_test.reset_index(drop=True, inplace=True)\n",
    "df_test = pd.concat([df_test, features_test], axis=1)\n",
    "\n",
    "df_test.drop(columns = drop_lst_hour_8, inplace = True)\n",
    "\n",
    "df_test[\"lag_2\"] = df_hour_test[\"production\"].shift(2, fill_value=0)\n",
    "df_test[\"ma_3\"] = df_hour_test[\"production\"].rolling(window=3).mean()\n",
    "df_test.fillna(method='bfill', inplace=True)\n",
    "\n",
    "df_test"
   ]
  },
  {
   "cell_type": "code",
   "execution_count": null,
   "metadata": {},
   "outputs": [],
   "source": [
    "accu(df_hour_test[\"production\"], model_hour_8.predict(df_test))"
   ]
  },
  {
   "cell_type": "code",
   "execution_count": null,
   "metadata": {},
   "outputs": [],
   "source": [
    "df_hour_month = df_hour[\"date\"].dt.month\n",
    "df_hour_month = pd.get_dummies(df_hour_month, prefix=\"month\")\n",
    "for i in range(5,12):\n",
    "    df_hour_month[f\"month_{i}\"] = 0\n",
    "\n",
    "df_predict = df_hour_month.copy()\n",
    "df_predict[\"trend\"] = np.arange(len(df_predict))\n",
    "df_predict = sm.add_constant(df_predict)\n",
    "\n",
    "features = df_hour.copy()\n",
    "features.drop(columns=[\"date\", \"hour\", \"production\"], inplace=True)\n",
    "lst = weather_df.columns[4:-10]\n",
    "for feature in lst:\n",
    "    feature_col = df_hour.columns[df_hour.columns.str.contains(feature)]\n",
    "    features[f\"mean_{feature}\"] = df_hour[feature_col].mean(axis=1)\n",
    "features = features.filter(regex=r'^mean_')\n",
    "\n",
    "df_predict.reset_index(drop=True, inplace=True)\n",
    "features.reset_index(drop=True, inplace=True)\n",
    "df_predict = pd.concat([df_predict, features], axis=1)\n",
    "\n",
    "df_predict.drop(columns = drop_lst_hour_8, inplace = True)\n",
    "\n",
    "df_predict[\"lag_2\"] = df_hour[\"production\"].shift(2, fill_value=0)\n",
    "df_predict[\"ma_3\"] = df_hour[\"production\"].rolling(window=3).mean()\n",
    "df_predict.fillna(method='bfill', inplace=True)\n",
    "\n",
    "df_predict"
   ]
  },
  {
   "cell_type": "code",
   "execution_count": null,
   "metadata": {},
   "outputs": [],
   "source": [
    "lm = sm.OLS(df_hour[\"production\"], df_predict)\n",
    "model_hour_8 = lm.fit()\n",
    "print(model_hour_8.summary())"
   ]
  },
  {
   "cell_type": "code",
   "execution_count": null,
   "metadata": {},
   "outputs": [],
   "source": [
    "accu(df_hour[\"production\"], model_hour_8.predict())"
   ]
  },
  {
   "cell_type": "markdown",
   "metadata": {},
   "source": [
    "# Hour 9"
   ]
  },
  {
   "cell_type": "code",
   "execution_count": null,
   "metadata": {},
   "outputs": [],
   "source": [
    "mask = df[\"hour\"] == 9\n",
    "df_hour = df[mask]\n",
    "df_hour.reset_index(drop=True, inplace=True)\n",
    "df_hour_train = df_hour[df_hour[\"date\"] < \"2024\"]\n",
    "df_hour_test = df_hour[df_hour[\"date\"] >= \"2024\"]\n",
    "df_hour_train.reset_index(drop=True, inplace=True)\n",
    "df_hour_test.reset_index(drop=True, inplace=True)\n",
    "\n",
    "df_hour"
   ]
  },
  {
   "cell_type": "code",
   "execution_count": null,
   "metadata": {},
   "outputs": [],
   "source": [
    "df_hour_month_train = df_hour_train[\"date\"].dt.month\n",
    "df_hour_month_train = pd.get_dummies(df_hour_month_train, prefix=\"month\")\n",
    "df_hour_month_train.drop(columns=[\"month_12\"], inplace=True)\n",
    "df_hour_month_train\n",
    "\n",
    "df_model_hour = df_hour_month_train.copy()\n",
    "df_model_hour[\"trend\"] = np.arange(len(df_model_hour))\n",
    "df_model_hour = sm.add_constant(df_model_hour)\n",
    "\n",
    "\n",
    "features_train = df_hour_train.copy()\n",
    "features_train.drop(columns=[\"date\", \"hour\", \"production\"], inplace=True)\n",
    "lst = weather_df.columns[4:-10]\n",
    "for feature in lst:\n",
    "    feature_col = df_hour_train.columns[df_hour_train.columns.str.contains(feature)]\n",
    "    features_train[f\"mean_{feature}\"] = df_hour_train[feature_col].mean(axis=1)\n",
    "features_train = features_train.filter(regex=r'^mean_')\n",
    "features_train\n",
    "\n",
    "df_model_hour= pd.concat([df_model_hour, features_train], axis=1)\n",
    "\n",
    "df_model_hour"
   ]
  },
  {
   "cell_type": "code",
   "execution_count": null,
   "metadata": {},
   "outputs": [],
   "source": [
    "lm = sm.OLS(df_hour_train[\"production\"], df_model_hour)\n",
    "result = lm.fit()\n",
    "print(result.summary())"
   ]
  },
  {
   "cell_type": "code",
   "execution_count": null,
   "metadata": {},
   "outputs": [],
   "source": [
    "drop_lst_hour_9 = [\"trend\", \"mean_uswrf_surface\", \"mean_csnow_surface\", \"mean_tcdc_entire.atmosphere\", \"mean_tcdc_middle.cloud.layer\"]\n",
    "\n",
    "df_model_hour.drop(columns = drop_lst_hour_9, inplace = True)\n",
    "\n",
    "df_model_hour[\"lag_2\"] = df_hour_train[\"production\"].shift(2, fill_value=0)\n",
    "df_model_hour[\"ma_3\"] = df_hour_train[\"production\"].rolling(window=3).mean()\n",
    "df_model_hour.fillna(method='bfill', inplace=True)"
   ]
  },
  {
   "cell_type": "code",
   "execution_count": null,
   "metadata": {},
   "outputs": [],
   "source": [
    "lm = sm.OLS(df_hour_train[\"production\"], df_model_hour)\n",
    "model_hour_9 = lm.fit()\n",
    "print(model_hour_9.summary())"
   ]
  },
  {
   "cell_type": "code",
   "execution_count": null,
   "metadata": {},
   "outputs": [],
   "source": [
    "accu(df_hour_train[\"production\"], model_hour_9.predict())"
   ]
  },
  {
   "cell_type": "code",
   "execution_count": null,
   "metadata": {},
   "outputs": [],
   "source": [
    "df_hour_month_test = df_hour_test[\"date\"].dt.month\n",
    "df_hour_month_test = pd.get_dummies(df_hour_month_test, prefix=\"month\")\n",
    "for i in range(5,12):\n",
    "    df_hour_month_test[f\"month_{i}\"] = 0\n",
    "\n",
    "df_test = df_hour_month_test.copy()\n",
    "df_test[\"trend\"] = np.arange(len(df_test))\n",
    "df_test = sm.add_constant(df_test)\n",
    "\n",
    "features_test = df_hour_test.copy()\n",
    "features_test.drop(columns=[\"date\", \"hour\", \"production\"], inplace=True)\n",
    "lst = weather_df.columns[4:-10]\n",
    "for feature in lst:\n",
    "    feature_col = df_hour_test.columns[df_hour_test.columns.str.contains(feature)]\n",
    "    features_test[f\"mean_{feature}\"] = df_hour_test[feature_col].mean(axis=1)\n",
    "features_test = features_test.filter(regex=r'^mean_')\n",
    "features_test\n",
    "\n",
    "df_test.reset_index(drop=True, inplace=True)\n",
    "features_test.reset_index(drop=True, inplace=True)\n",
    "df_test = pd.concat([df_test, features_test], axis=1)\n",
    "\n",
    "df_test.drop(columns = drop_lst_hour_9, inplace = True)\n",
    "\n",
    "df_test[\"lag_2\"] = df_hour_test[\"production\"].shift(2, fill_value=0)\n",
    "df_test[\"ma_3\"] = df_hour_test[\"production\"].rolling(window=3).mean()\n",
    "df_test.fillna(method='bfill', inplace=True)\n",
    "\n",
    "df_test"
   ]
  },
  {
   "cell_type": "code",
   "execution_count": null,
   "metadata": {},
   "outputs": [],
   "source": [
    "accu(df_hour_test[\"production\"], model_hour_9.predict(df_test))"
   ]
  },
  {
   "cell_type": "code",
   "execution_count": null,
   "metadata": {},
   "outputs": [],
   "source": [
    "df_hour_month = df_hour[\"date\"].dt.month\n",
    "df_hour_month = pd.get_dummies(df_hour_month, prefix=\"month\")\n",
    "for i in range(5,12):\n",
    "    df_hour_month[f\"month_{i}\"] = 0\n",
    "\n",
    "df_predict = df_hour_month.copy()\n",
    "df_predict[\"trend\"] = np.arange(len(df_predict))\n",
    "df_predict = sm.add_constant(df_predict)\n",
    "\n",
    "features = df_hour.copy()\n",
    "features.drop(columns=[\"date\", \"hour\", \"production\"], inplace=True)\n",
    "lst = weather_df.columns[4:-10]\n",
    "for feature in lst:\n",
    "    feature_col = df_hour.columns[df_hour.columns.str.contains(feature)]\n",
    "    features[f\"mean_{feature}\"] = df_hour[feature_col].mean(axis=1)\n",
    "features = features.filter(regex=r'^mean_')\n",
    "\n",
    "df_predict.reset_index(drop=True, inplace=True)\n",
    "features.reset_index(drop=True, inplace=True)\n",
    "df_predict = pd.concat([df_predict, features], axis=1)\n",
    "\n",
    "df_predict.drop(columns = drop_lst_hour_9, inplace = True)\n",
    "\n",
    "df_predict[\"lag_2\"] = df_hour[\"production\"].shift(2, fill_value=0)\n",
    "df_predict[\"ma_3\"] = df_hour[\"production\"].rolling(window=3).mean()\n",
    "df_predict.fillna(method='bfill', inplace=True)\n",
    "\n",
    "df_predict"
   ]
  },
  {
   "cell_type": "code",
   "execution_count": null,
   "metadata": {},
   "outputs": [],
   "source": [
    "lm = sm.OLS(df_hour[\"production\"], df_predict)\n",
    "model_hour_9 = lm.fit()\n",
    "print(model_hour_9.summary())"
   ]
  },
  {
   "cell_type": "code",
   "execution_count": null,
   "metadata": {},
   "outputs": [],
   "source": [
    "accu(df_hour[\"production\"], model_hour_9.predict())"
   ]
  },
  {
   "cell_type": "markdown",
   "metadata": {},
   "source": [
    "# Hour 10"
   ]
  },
  {
   "cell_type": "code",
   "execution_count": null,
   "metadata": {},
   "outputs": [],
   "source": [
    "mask = df[\"hour\"] == 10\n",
    "df_hour = df[mask]\n",
    "df_hour.reset_index(drop=True, inplace=True)\n",
    "df_hour_train = df_hour[df_hour[\"date\"] < \"2024\"]\n",
    "df_hour_test = df_hour[df_hour[\"date\"] >= \"2024\"]\n",
    "df_hour_train.reset_index(drop=True, inplace=True)\n",
    "df_hour_test.reset_index(drop=True, inplace=True)\n",
    "\n",
    "df_hour"
   ]
  },
  {
   "cell_type": "code",
   "execution_count": null,
   "metadata": {},
   "outputs": [],
   "source": [
    "df_hour_month_train = df_hour_train[\"date\"].dt.month\n",
    "df_hour_month_train = pd.get_dummies(df_hour_month_train, prefix=\"month\")\n",
    "df_hour_month_train.drop(columns=[\"month_12\"], inplace=True)\n",
    "df_hour_month_train\n",
    "\n",
    "df_model_hour = df_hour_month_train.copy()\n",
    "df_model_hour[\"trend\"] = np.arange(len(df_model_hour))\n",
    "df_model_hour = sm.add_constant(df_model_hour)\n",
    "\n",
    "\n",
    "features_train = df_hour_train.copy()\n",
    "features_train.drop(columns=[\"date\", \"hour\", \"production\"], inplace=True)\n",
    "lst = weather_df.columns[4:-10]\n",
    "for feature in lst:\n",
    "    feature_col = df_hour_train.columns[df_hour_train.columns.str.contains(feature)]\n",
    "    features_train[f\"mean_{feature}\"] = df_hour_train[feature_col].mean(axis=1)\n",
    "features_train = features_train.filter(regex=r'^mean_')\n",
    "features_train\n",
    "\n",
    "df_model_hour= pd.concat([df_model_hour, features_train], axis=1)\n",
    "\n",
    "df_model_hour"
   ]
  },
  {
   "cell_type": "code",
   "execution_count": null,
   "metadata": {},
   "outputs": [],
   "source": [
    "lm = sm.OLS(df_hour_train[\"production\"], df_model_hour)\n",
    "result = lm.fit()\n",
    "print(result.summary())"
   ]
  },
  {
   "cell_type": "code",
   "execution_count": null,
   "metadata": {},
   "outputs": [],
   "source": [
    "drop_lst_hour_10 = [\"mean_uswrf_top_of_atmosphere\", \"mean_tcdc_high.cloud.layer\"]\n",
    "\n",
    "df_model_hour.drop(columns = drop_lst_hour_10, inplace = True)\n",
    "\n",
    "df_model_hour[\"lag_2\"] = df_hour_train[\"production\"].shift(2, fill_value=0)\n",
    "df_model_hour[\"ma_3\"] = df_hour_train[\"production\"].rolling(window=3).mean()\n",
    "df_model_hour.fillna(method='bfill', inplace=True)"
   ]
  },
  {
   "cell_type": "code",
   "execution_count": null,
   "metadata": {},
   "outputs": [],
   "source": [
    "lm = sm.OLS(df_hour_train[\"production\"], df_model_hour)\n",
    "model_hour_10 = lm.fit()\n",
    "print(model_hour_10.summary())"
   ]
  },
  {
   "cell_type": "code",
   "execution_count": null,
   "metadata": {},
   "outputs": [],
   "source": [
    "accu(df_hour_train[\"production\"], model_hour_10.predict())"
   ]
  },
  {
   "cell_type": "code",
   "execution_count": null,
   "metadata": {},
   "outputs": [],
   "source": [
    "df_hour_month_test = df_hour_test[\"date\"].dt.month\n",
    "df_hour_month_test = pd.get_dummies(df_hour_month_test, prefix=\"month\")\n",
    "for i in range(5,12):\n",
    "    df_hour_month_test[f\"month_{i}\"] = 0\n",
    "\n",
    "df_test = df_hour_month_test.copy()\n",
    "df_test[\"trend\"] = np.arange(len(df_test))\n",
    "df_test = sm.add_constant(df_test)\n",
    "\n",
    "features_test = df_hour_test.copy()\n",
    "features_test.drop(columns=[\"date\", \"hour\", \"production\"], inplace=True)\n",
    "lst = weather_df.columns[4:-10]\n",
    "for feature in lst:\n",
    "    feature_col = df_hour_test.columns[df_hour_test.columns.str.contains(feature)]\n",
    "    features_test[f\"mean_{feature}\"] = df_hour_test[feature_col].mean(axis=1)\n",
    "features_test = features_test.filter(regex=r'^mean_')\n",
    "features_test\n",
    "\n",
    "df_test.reset_index(drop=True, inplace=True)\n",
    "features_test.reset_index(drop=True, inplace=True)\n",
    "df_test = pd.concat([df_test, features_test], axis=1)\n",
    "\n",
    "df_test.drop(columns = drop_lst_hour_10, inplace = True)\n",
    "\n",
    "df_test[\"lag_2\"] = df_hour_test[\"production\"].shift(2, fill_value=0)\n",
    "df_test[\"ma_3\"] = df_hour_test[\"production\"].rolling(window=3).mean()\n",
    "df_test.fillna(method='bfill', inplace=True)\n",
    "\n",
    "df_test"
   ]
  },
  {
   "cell_type": "code",
   "execution_count": null,
   "metadata": {},
   "outputs": [],
   "source": [
    "accu(df_hour_test[\"production\"], model_hour_10.predict(df_test))"
   ]
  },
  {
   "cell_type": "code",
   "execution_count": null,
   "metadata": {},
   "outputs": [],
   "source": [
    "df_hour_month = df_hour[\"date\"].dt.month\n",
    "df_hour_month = pd.get_dummies(df_hour_month, prefix=\"month\")\n",
    "for i in range(5,12):\n",
    "    df_hour_month[f\"month_{i}\"] = 0\n",
    "\n",
    "df_predict = df_hour_month.copy()\n",
    "df_predict[\"trend\"] = np.arange(len(df_predict))\n",
    "df_predict = sm.add_constant(df_predict)\n",
    "\n",
    "features = df_hour.copy()\n",
    "features.drop(columns=[\"date\", \"hour\", \"production\"], inplace=True)\n",
    "lst = weather_df.columns[4:-10]\n",
    "for feature in lst:\n",
    "    feature_col = df_hour.columns[df_hour.columns.str.contains(feature)]\n",
    "    features[f\"mean_{feature}\"] = df_hour[feature_col].mean(axis=1)\n",
    "features = features.filter(regex=r'^mean_')\n",
    "\n",
    "df_predict.reset_index(drop=True, inplace=True)\n",
    "features.reset_index(drop=True, inplace=True)\n",
    "df_predict = pd.concat([df_predict, features], axis=1)\n",
    "\n",
    "df_predict.drop(columns = drop_lst_hour_10, inplace = True)\n",
    "\n",
    "df_predict[\"lag_2\"] = df_hour[\"production\"].shift(2, fill_value=0)\n",
    "df_predict[\"ma_3\"] = df_hour[\"production\"].rolling(window=3).mean()\n",
    "df_predict.fillna(method='bfill', inplace=True)\n",
    "\n",
    "df_predict"
   ]
  },
  {
   "cell_type": "code",
   "execution_count": null,
   "metadata": {},
   "outputs": [],
   "source": [
    "lm = sm.OLS(df_hour[\"production\"], df_predict)\n",
    "model_hour_10 = lm.fit()\n",
    "print(model_hour_10.summary())"
   ]
  },
  {
   "cell_type": "code",
   "execution_count": null,
   "metadata": {},
   "outputs": [],
   "source": [
    "accu(df_hour[\"production\"], model_hour_10.predict())"
   ]
  },
  {
   "cell_type": "markdown",
   "metadata": {},
   "source": [
    "# Hour 11"
   ]
  },
  {
   "cell_type": "code",
   "execution_count": null,
   "metadata": {},
   "outputs": [],
   "source": [
    "mask = df[\"hour\"] == 11\n",
    "df_hour = df[mask]\n",
    "df_hour.reset_index(drop=True, inplace=True)\n",
    "df_hour_train = df_hour[df_hour[\"date\"] < \"2024\"]\n",
    "df_hour_test = df_hour[df_hour[\"date\"] >= \"2024\"]\n",
    "df_hour_train.reset_index(drop=True, inplace=True)\n",
    "df_hour_test.reset_index(drop=True, inplace=True)\n",
    "\n",
    "df_hour"
   ]
  },
  {
   "cell_type": "code",
   "execution_count": null,
   "metadata": {},
   "outputs": [],
   "source": [
    "df_hour_month_train = df_hour_train[\"date\"].dt.month\n",
    "df_hour_month_train = pd.get_dummies(df_hour_month_train, prefix=\"month\")\n",
    "df_hour_month_train.drop(columns=[\"month_12\"], inplace=True)\n",
    "df_hour_month_train\n",
    "\n",
    "df_model_hour = df_hour_month_train.copy()\n",
    "df_model_hour[\"trend\"] = np.arange(len(df_model_hour))\n",
    "df_model_hour = sm.add_constant(df_model_hour)\n",
    "\n",
    "\n",
    "features_train = df_hour_train.copy()\n",
    "features_train.drop(columns=[\"date\", \"hour\", \"production\"], inplace=True)\n",
    "lst = weather_df.columns[4:-10]\n",
    "for feature in lst:\n",
    "    feature_col = df_hour_train.columns[df_hour_train.columns.str.contains(feature)]\n",
    "    features_train[f\"mean_{feature}\"] = df_hour_train[feature_col].mean(axis=1)\n",
    "features_train = features_train.filter(regex=r'^mean_')\n",
    "features_train\n",
    "\n",
    "df_model_hour= pd.concat([df_model_hour, features_train], axis=1)\n",
    "\n",
    "df_model_hour"
   ]
  },
  {
   "cell_type": "code",
   "execution_count": null,
   "metadata": {},
   "outputs": [],
   "source": [
    "lm = sm.OLS(df_hour_train[\"production\"], df_model_hour)\n",
    "result = lm.fit()\n",
    "print(result.summary())"
   ]
  },
  {
   "cell_type": "code",
   "execution_count": null,
   "metadata": {},
   "outputs": [],
   "source": [
    "drop_lst_hour_11 = [\"mean_uswrf_top_of_atmosphere\", \"mean_tcdc_high.cloud.layer\", \"trend\"]\n",
    "\n",
    "df_model_hour.drop(columns = drop_lst_hour_11, inplace = True)\n",
    "\n",
    "df_model_hour[\"lag_2\"] = df_hour_train[\"production\"].shift(2, fill_value=0)\n",
    "df_model_hour[\"ma_3\"] = df_hour_train[\"production\"].rolling(window=3).mean()\n",
    "df_model_hour.fillna(method='bfill', inplace=True)"
   ]
  },
  {
   "cell_type": "code",
   "execution_count": null,
   "metadata": {},
   "outputs": [],
   "source": [
    "lm = sm.OLS(df_hour_train[\"production\"], df_model_hour)\n",
    "model_hour_11 = lm.fit()\n",
    "print(model_hour_11.summary())"
   ]
  },
  {
   "cell_type": "code",
   "execution_count": null,
   "metadata": {},
   "outputs": [],
   "source": [
    "accu(df_hour_train[\"production\"], model_hour_11.predict())"
   ]
  },
  {
   "cell_type": "code",
   "execution_count": null,
   "metadata": {},
   "outputs": [],
   "source": [
    "df_hour_month_test = df_hour_test[\"date\"].dt.month\n",
    "df_hour_month_test = pd.get_dummies(df_hour_month_test, prefix=\"month\")\n",
    "for i in range(5,12):\n",
    "    df_hour_month_test[f\"month_{i}\"] = 0\n",
    "\n",
    "df_test = df_hour_month_test.copy()\n",
    "df_test[\"trend\"] = np.arange(len(df_test))\n",
    "df_test = sm.add_constant(df_test)\n",
    "\n",
    "features_test = df_hour_test.copy()\n",
    "features_test.drop(columns=[\"date\", \"hour\", \"production\"], inplace=True)\n",
    "lst = weather_df.columns[4:-10]\n",
    "for feature in lst:\n",
    "    feature_col = df_hour_test.columns[df_hour_test.columns.str.contains(feature)]\n",
    "    features_test[f\"mean_{feature}\"] = df_hour_test[feature_col].mean(axis=1)\n",
    "features_test = features_test.filter(regex=r'^mean_')\n",
    "features_test\n",
    "\n",
    "df_test.reset_index(drop=True, inplace=True)\n",
    "features_test.reset_index(drop=True, inplace=True)\n",
    "df_test = pd.concat([df_test, features_test], axis=1)\n",
    "\n",
    "df_test.drop(columns = drop_lst_hour_11, inplace = True)\n",
    "\n",
    "df_test[\"lag_2\"] = df_hour_test[\"production\"].shift(2, fill_value=0)\n",
    "df_test[\"ma_3\"] = df_hour_test[\"production\"].rolling(window=3).mean()\n",
    "df_test.fillna(method='bfill', inplace=True)\n",
    "\n",
    "df_test"
   ]
  },
  {
   "cell_type": "code",
   "execution_count": null,
   "metadata": {},
   "outputs": [],
   "source": [
    "accu(df_hour_test[\"production\"], model_hour_11.predict(df_test))"
   ]
  },
  {
   "cell_type": "code",
   "execution_count": null,
   "metadata": {},
   "outputs": [],
   "source": [
    "df_hour_month = df_hour[\"date\"].dt.month\n",
    "df_hour_month = pd.get_dummies(df_hour_month, prefix=\"month\")\n",
    "for i in range(5,12):\n",
    "    df_hour_month[f\"month_{i}\"] = 0\n",
    "\n",
    "df_predict = df_hour_month.copy()\n",
    "df_predict[\"trend\"] = np.arange(len(df_predict))\n",
    "df_predict = sm.add_constant(df_predict)\n",
    "\n",
    "features = df_hour.copy()\n",
    "features.drop(columns=[\"date\", \"hour\", \"production\"], inplace=True)\n",
    "lst = weather_df.columns[4:-10]\n",
    "for feature in lst:\n",
    "    feature_col = df_hour.columns[df_hour.columns.str.contains(feature)]\n",
    "    features[f\"mean_{feature}\"] = df_hour[feature_col].mean(axis=1)\n",
    "features = features.filter(regex=r'^mean_')\n",
    "\n",
    "df_predict.reset_index(drop=True, inplace=True)\n",
    "features.reset_index(drop=True, inplace=True)\n",
    "df_predict = pd.concat([df_predict, features], axis=1)\n",
    "\n",
    "df_predict.drop(columns = drop_lst_hour_11, inplace = True)\n",
    "\n",
    "df_predict[\"lag_2\"] = df_hour[\"production\"].shift(2, fill_value=0)\n",
    "df_predict[\"ma_3\"] = df_hour[\"production\"].rolling(window=3).mean()\n",
    "df_predict.fillna(method='bfill', inplace=True)\n",
    "\n",
    "df_predict"
   ]
  },
  {
   "cell_type": "code",
   "execution_count": null,
   "metadata": {},
   "outputs": [],
   "source": [
    "lm = sm.OLS(df_hour[\"production\"], df_predict)\n",
    "model_hour_11 = lm.fit()\n",
    "print(model_hour_11.summary())"
   ]
  },
  {
   "cell_type": "code",
   "execution_count": null,
   "metadata": {},
   "outputs": [],
   "source": [
    "accu(df_hour[\"production\"], model_hour_11.predict())"
   ]
  },
  {
   "cell_type": "markdown",
   "metadata": {},
   "source": [
    "# Hour 12"
   ]
  },
  {
   "cell_type": "code",
   "execution_count": null,
   "metadata": {},
   "outputs": [],
   "source": [
    "mask = df[\"hour\"] == 12\n",
    "df_hour = df[mask]\n",
    "df_hour.reset_index(drop=True, inplace=True)\n",
    "df_hour_train = df_hour[df_hour[\"date\"] < \"2024\"]\n",
    "df_hour_test = df_hour[df_hour[\"date\"] >= \"2024\"]\n",
    "df_hour_train.reset_index(drop=True, inplace=True)\n",
    "df_hour_test.reset_index(drop=True, inplace=True)\n",
    "\n",
    "df_hour"
   ]
  },
  {
   "cell_type": "code",
   "execution_count": null,
   "metadata": {},
   "outputs": [],
   "source": [
    "df_hour_month_train = df_hour_train[\"date\"].dt.month\n",
    "df_hour_month_train = pd.get_dummies(df_hour_month_train, prefix=\"month\")\n",
    "df_hour_month_train.drop(columns=[\"month_12\"], inplace=True)\n",
    "df_hour_month_train\n",
    "\n",
    "df_model_hour = df_hour_month_train.copy()\n",
    "df_model_hour[\"trend\"] = np.arange(len(df_model_hour))\n",
    "df_model_hour = sm.add_constant(df_model_hour)\n",
    "\n",
    "\n",
    "features_train = df_hour_train.copy()\n",
    "features_train.drop(columns=[\"date\", \"hour\", \"production\"], inplace=True)\n",
    "lst = weather_df.columns[4:-10]\n",
    "for feature in lst:\n",
    "    feature_col = df_hour_train.columns[df_hour_train.columns.str.contains(feature)]\n",
    "    features_train[f\"mean_{feature}\"] = df_hour_train[feature_col].mean(axis=1)\n",
    "features_train = features_train.filter(regex=r'^mean_')\n",
    "features_train\n",
    "\n",
    "df_model_hour= pd.concat([df_model_hour, features_train], axis=1)\n",
    "\n",
    "df_model_hour"
   ]
  },
  {
   "cell_type": "code",
   "execution_count": null,
   "metadata": {},
   "outputs": [],
   "source": [
    "lm = sm.OLS(df_hour_train[\"production\"], df_model_hour)\n",
    "result = lm.fit()\n",
    "print(result.summary())"
   ]
  },
  {
   "cell_type": "code",
   "execution_count": null,
   "metadata": {},
   "outputs": [],
   "source": [
    "drop_lst_hour_12 = [\"mean_uswrf_top_of_atmosphere\", \"mean_tcdc_high.cloud.layer\", \"trend\"]\n",
    "\n",
    "df_model_hour.drop(columns = drop_lst_hour_12, inplace = True)\n",
    "\n",
    "df_model_hour[\"lag_2\"] = df_hour_train[\"production\"].shift(2, fill_value=0)\n",
    "df_model_hour[\"ma_3\"] = df_hour_train[\"production\"].rolling(window=3).mean()\n",
    "df_model_hour.fillna(method='bfill', inplace=True)"
   ]
  },
  {
   "cell_type": "code",
   "execution_count": null,
   "metadata": {},
   "outputs": [],
   "source": [
    "lm = sm.OLS(df_hour_train[\"production\"], df_model_hour)\n",
    "model_hour_12 = lm.fit()\n",
    "print(model_hour_12.summary())"
   ]
  },
  {
   "cell_type": "code",
   "execution_count": null,
   "metadata": {},
   "outputs": [],
   "source": [
    "accu(df_hour_train[\"production\"], model_hour_12.predict())"
   ]
  },
  {
   "cell_type": "code",
   "execution_count": null,
   "metadata": {},
   "outputs": [],
   "source": [
    "df_hour_month_test = df_hour_test[\"date\"].dt.month\n",
    "df_hour_month_test = pd.get_dummies(df_hour_month_test, prefix=\"month\")\n",
    "for i in range(5,12):\n",
    "    df_hour_month_test[f\"month_{i}\"] = 0\n",
    "\n",
    "df_test = df_hour_month_test.copy()\n",
    "df_test[\"trend\"] = np.arange(len(df_test))\n",
    "df_test = sm.add_constant(df_test)\n",
    "\n",
    "features_test = df_hour_test.copy()\n",
    "features_test.drop(columns=[\"date\", \"hour\", \"production\"], inplace=True)\n",
    "lst = weather_df.columns[4:-10]\n",
    "for feature in lst:\n",
    "    feature_col = df_hour_test.columns[df_hour_test.columns.str.contains(feature)]\n",
    "    features_test[f\"mean_{feature}\"] = df_hour_test[feature_col].mean(axis=1)\n",
    "features_test = features_test.filter(regex=r'^mean_')\n",
    "features_test\n",
    "\n",
    "df_test.reset_index(drop=True, inplace=True)\n",
    "features_test.reset_index(drop=True, inplace=True)\n",
    "df_test = pd.concat([df_test, features_test], axis=1)\n",
    "\n",
    "df_test.drop(columns = drop_lst_hour_12, inplace = True)\n",
    "\n",
    "df_test[\"lag_2\"] = df_hour_test[\"production\"].shift(2, fill_value=0)\n",
    "df_test[\"ma_3\"] = df_hour_test[\"production\"].rolling(window=3).mean()\n",
    "df_test.fillna(method='bfill', inplace=True)\n",
    "\n",
    "df_test"
   ]
  },
  {
   "cell_type": "code",
   "execution_count": null,
   "metadata": {},
   "outputs": [],
   "source": [
    "accu(df_hour_test[\"production\"], model_hour_12.predict(df_test))"
   ]
  },
  {
   "cell_type": "code",
   "execution_count": null,
   "metadata": {},
   "outputs": [],
   "source": [
    "df_hour_month = df_hour[\"date\"].dt.month\n",
    "df_hour_month = pd.get_dummies(df_hour_month, prefix=\"month\")\n",
    "for i in range(5,12):\n",
    "    df_hour_month[f\"month_{i}\"] = 0\n",
    "\n",
    "df_predict = df_hour_month.copy()\n",
    "df_predict[\"trend\"] = np.arange(len(df_predict))\n",
    "df_predict = sm.add_constant(df_predict)\n",
    "\n",
    "features = df_hour.copy()\n",
    "features.drop(columns=[\"date\", \"hour\", \"production\"], inplace=True)\n",
    "lst = weather_df.columns[4:-10]\n",
    "for feature in lst:\n",
    "    feature_col = df_hour.columns[df_hour.columns.str.contains(feature)]\n",
    "    features[f\"mean_{feature}\"] = df_hour[feature_col].mean(axis=1)\n",
    "features = features.filter(regex=r'^mean_')\n",
    "\n",
    "df_predict.reset_index(drop=True, inplace=True)\n",
    "features.reset_index(drop=True, inplace=True)\n",
    "df_predict = pd.concat([df_predict, features], axis=1)\n",
    "\n",
    "df_predict.drop(columns = drop_lst_hour_12, inplace = True)\n",
    "\n",
    "df_predict[\"lag_2\"] = df_hour[\"production\"].shift(2, fill_value=0)\n",
    "df_predict[\"ma_3\"] = df_hour[\"production\"].rolling(window=3).mean()\n",
    "df_predict.fillna(method='bfill', inplace=True)\n",
    "\n",
    "df_predict"
   ]
  },
  {
   "cell_type": "code",
   "execution_count": null,
   "metadata": {},
   "outputs": [],
   "source": [
    "lm = sm.OLS(df_hour[\"production\"], df_predict)\n",
    "model_hour_12 = lm.fit()\n",
    "print(model_hour_12.summary())"
   ]
  },
  {
   "cell_type": "code",
   "execution_count": null,
   "metadata": {},
   "outputs": [],
   "source": [
    "accu(df_hour[\"production\"], model_hour_12.predict())"
   ]
  },
  {
   "cell_type": "markdown",
   "metadata": {},
   "source": [
    "# Hour 13"
   ]
  },
  {
   "cell_type": "code",
   "execution_count": null,
   "metadata": {},
   "outputs": [],
   "source": [
    "mask = df[\"hour\"] == 13\n",
    "df_hour = df[mask]\n",
    "df_hour.reset_index(drop=True, inplace=True)\n",
    "df_hour_train = df_hour[df_hour[\"date\"] < \"2024\"]\n",
    "df_hour_test = df_hour[df_hour[\"date\"] >= \"2024\"]\n",
    "df_hour_train.reset_index(drop=True, inplace=True)\n",
    "df_hour_test.reset_index(drop=True, inplace=True)\n",
    "\n",
    "df_hour"
   ]
  },
  {
   "cell_type": "code",
   "execution_count": null,
   "metadata": {},
   "outputs": [],
   "source": [
    "df_hour_month_train = df_hour_train[\"date\"].dt.month\n",
    "df_hour_month_train = pd.get_dummies(df_hour_month_train, prefix=\"month\")\n",
    "df_hour_month_train.drop(columns=[\"month_12\"], inplace=True)\n",
    "df_hour_month_train\n",
    "\n",
    "df_model_hour = df_hour_month_train.copy()\n",
    "df_model_hour[\"trend\"] = np.arange(len(df_model_hour))\n",
    "df_model_hour = sm.add_constant(df_model_hour)\n",
    "\n",
    "\n",
    "features_train = df_hour_train.copy()\n",
    "features_train.drop(columns=[\"date\", \"hour\", \"production\"], inplace=True)\n",
    "lst = weather_df.columns[4:-10]\n",
    "for feature in lst:\n",
    "    feature_col = df_hour_train.columns[df_hour_train.columns.str.contains(feature)]\n",
    "    features_train[f\"mean_{feature}\"] = df_hour_train[feature_col].mean(axis=1)\n",
    "features_train = features_train.filter(regex=r'^mean_')\n",
    "features_train\n",
    "\n",
    "df_model_hour= pd.concat([df_model_hour, features_train], axis=1)\n",
    "\n",
    "df_model_hour"
   ]
  },
  {
   "cell_type": "code",
   "execution_count": null,
   "metadata": {},
   "outputs": [],
   "source": [
    "lm = sm.OLS(df_hour_train[\"production\"], df_model_hour)\n",
    "result = lm.fit()\n",
    "print(result.summary())"
   ]
  },
  {
   "cell_type": "code",
   "execution_count": null,
   "metadata": {},
   "outputs": [],
   "source": [
    "drop_lst_hour_13 = [\"mean_csnow_surface\", \"mean_tcdc_high.cloud.layer\", \"trend\"]\n",
    "\n",
    "df_model_hour.drop(columns = drop_lst_hour_13, inplace = True)\n",
    "\n",
    "df_model_hour[\"lag_2\"] = df_hour_train[\"production\"].shift(2, fill_value=0)\n",
    "df_model_hour[\"ma_3\"] = df_hour_train[\"production\"].rolling(window=3).mean()\n",
    "df_model_hour.fillna(method='bfill', inplace=True)"
   ]
  },
  {
   "cell_type": "code",
   "execution_count": null,
   "metadata": {},
   "outputs": [],
   "source": [
    "lm = sm.OLS(df_hour_train[\"production\"], df_model_hour)\n",
    "model_hour_13 = lm.fit()\n",
    "print(model_hour_13.summary())"
   ]
  },
  {
   "cell_type": "code",
   "execution_count": null,
   "metadata": {},
   "outputs": [],
   "source": [
    "accu(df_hour_train[\"production\"], model_hour_13.predict())"
   ]
  },
  {
   "cell_type": "code",
   "execution_count": null,
   "metadata": {},
   "outputs": [],
   "source": [
    "df_hour_month_test = df_hour_test[\"date\"].dt.month\n",
    "df_hour_month_test = pd.get_dummies(df_hour_month_test, prefix=\"month\")\n",
    "for i in range(5,12):\n",
    "    df_hour_month_test[f\"month_{i}\"] = 0\n",
    "\n",
    "df_test = df_hour_month_test.copy()\n",
    "df_test[\"trend\"] = np.arange(len(df_test))\n",
    "df_test = sm.add_constant(df_test)\n",
    "\n",
    "features_test = df_hour_test.copy()\n",
    "features_test.drop(columns=[\"date\", \"hour\", \"production\"], inplace=True)\n",
    "lst = weather_df.columns[4:-10]\n",
    "for feature in lst:\n",
    "    feature_col = df_hour_test.columns[df_hour_test.columns.str.contains(feature)]\n",
    "    features_test[f\"mean_{feature}\"] = df_hour_test[feature_col].mean(axis=1)\n",
    "features_test = features_test.filter(regex=r'^mean_')\n",
    "features_test\n",
    "\n",
    "df_test.reset_index(drop=True, inplace=True)\n",
    "features_test.reset_index(drop=True, inplace=True)\n",
    "df_test = pd.concat([df_test, features_test], axis=1)\n",
    "\n",
    "df_test.drop(columns = drop_lst_hour_13, inplace = True)\n",
    "\n",
    "df_test[\"lag_2\"] = df_hour_test[\"production\"].shift(2, fill_value=0)\n",
    "df_test[\"ma_3\"] = df_hour_test[\"production\"].rolling(window=3).mean()\n",
    "df_test.fillna(method='bfill', inplace=True)\n",
    "\n",
    "df_test"
   ]
  },
  {
   "cell_type": "code",
   "execution_count": null,
   "metadata": {},
   "outputs": [],
   "source": [
    "accu(df_hour_test[\"production\"], model_hour_13.predict(df_test))"
   ]
  },
  {
   "cell_type": "code",
   "execution_count": null,
   "metadata": {},
   "outputs": [],
   "source": [
    "df_hour_month = df_hour[\"date\"].dt.month\n",
    "df_hour_month = pd.get_dummies(df_hour_month, prefix=\"month\")\n",
    "for i in range(5,12):\n",
    "    df_hour_month[f\"month_{i}\"] = 0\n",
    "\n",
    "df_predict = df_hour_month.copy()\n",
    "df_predict[\"trend\"] = np.arange(len(df_predict))\n",
    "df_predict = sm.add_constant(df_predict)\n",
    "\n",
    "features = df_hour.copy()\n",
    "features.drop(columns=[\"date\", \"hour\", \"production\"], inplace=True)\n",
    "lst = weather_df.columns[4:-10]\n",
    "for feature in lst:\n",
    "    feature_col = df_hour.columns[df_hour.columns.str.contains(feature)]\n",
    "    features[f\"mean_{feature}\"] = df_hour[feature_col].mean(axis=1)\n",
    "features = features.filter(regex=r'^mean_')\n",
    "\n",
    "df_predict.reset_index(drop=True, inplace=True)\n",
    "features.reset_index(drop=True, inplace=True)\n",
    "df_predict = pd.concat([df_predict, features], axis=1)\n",
    "\n",
    "df_predict.drop(columns = drop_lst_hour_13, inplace = True)\n",
    "\n",
    "df_predict[\"lag_2\"] = df_hour[\"production\"].shift(2, fill_value=0)\n",
    "df_predict[\"ma_3\"] = df_hour[\"production\"].rolling(window=3).mean()\n",
    "df_predict.fillna(method='bfill', inplace=True)\n",
    "\n",
    "df_predict"
   ]
  },
  {
   "cell_type": "code",
   "execution_count": null,
   "metadata": {},
   "outputs": [],
   "source": [
    "lm = sm.OLS(df_hour[\"production\"], df_predict)\n",
    "model_hour_13 = lm.fit()\n",
    "print(model_hour_13.summary())"
   ]
  },
  {
   "cell_type": "code",
   "execution_count": null,
   "metadata": {},
   "outputs": [],
   "source": [
    "accu(df_hour[\"production\"], model_hour_13.predict())"
   ]
  },
  {
   "cell_type": "markdown",
   "metadata": {},
   "source": [
    "# Hour 14"
   ]
  },
  {
   "cell_type": "code",
   "execution_count": null,
   "metadata": {},
   "outputs": [],
   "source": [
    "mask = df[\"hour\"] == 14\n",
    "df_hour = df[mask]\n",
    "df_hour.reset_index(drop=True, inplace=True)\n",
    "df_hour_train = df_hour[df_hour[\"date\"] < \"2024\"]\n",
    "df_hour_test = df_hour[df_hour[\"date\"] >= \"2024\"]\n",
    "df_hour_train.reset_index(drop=True, inplace=True)\n",
    "df_hour_test.reset_index(drop=True, inplace=True)\n",
    "\n",
    "df_hour"
   ]
  },
  {
   "cell_type": "code",
   "execution_count": null,
   "metadata": {},
   "outputs": [],
   "source": [
    "df_hour_month_train = df_hour_train[\"date\"].dt.month\n",
    "df_hour_month_train = pd.get_dummies(df_hour_month_train, prefix=\"month\")\n",
    "df_hour_month_train.drop(columns=[\"month_12\"], inplace=True)\n",
    "df_hour_month_train\n",
    "\n",
    "df_model_hour = df_hour_month_train.copy()\n",
    "df_model_hour[\"trend\"] = np.arange(len(df_model_hour))\n",
    "df_model_hour = sm.add_constant(df_model_hour)\n",
    "\n",
    "\n",
    "features_train = df_hour_train.copy()\n",
    "features_train.drop(columns=[\"date\", \"hour\", \"production\"], inplace=True)\n",
    "lst = weather_df.columns[4:-10]\n",
    "for feature in lst:\n",
    "    feature_col = df_hour_train.columns[df_hour_train.columns.str.contains(feature)]\n",
    "    features_train[f\"mean_{feature}\"] = df_hour_train[feature_col].mean(axis=1)\n",
    "features_train = features_train.filter(regex=r'^mean_')\n",
    "features_train\n",
    "\n",
    "df_model_hour= pd.concat([df_model_hour, features_train], axis=1)\n",
    "\n",
    "df_model_hour"
   ]
  },
  {
   "cell_type": "code",
   "execution_count": null,
   "metadata": {},
   "outputs": [],
   "source": [
    "lm = sm.OLS(df_hour_train[\"production\"], df_model_hour)\n",
    "result = lm.fit()\n",
    "print(result.summary())"
   ]
  },
  {
   "cell_type": "code",
   "execution_count": null,
   "metadata": {},
   "outputs": [],
   "source": [
    "drop_lst_hour_14 = [\"mean_csnow_surface\", \"mean_tcdc_low.cloud.layer\", \"mean_dswrf_surface\"]\n",
    "\n",
    "df_model_hour.drop(columns = drop_lst_hour_14, inplace = True)\n",
    "\n",
    "df_model_hour[\"lag_2\"] = df_hour_train[\"production\"].shift(2, fill_value=0)\n",
    "df_model_hour[\"ma_3\"] = df_hour_train[\"production\"].rolling(window=3).mean()\n",
    "df_model_hour.fillna(method='bfill', inplace=True)"
   ]
  },
  {
   "cell_type": "code",
   "execution_count": null,
   "metadata": {},
   "outputs": [],
   "source": [
    "lm = sm.OLS(df_hour_train[\"production\"], df_model_hour)\n",
    "model_hour_14 = lm.fit()\n",
    "print(model_hour_14.summary())"
   ]
  },
  {
   "cell_type": "code",
   "execution_count": null,
   "metadata": {},
   "outputs": [],
   "source": [
    "accu(df_hour_train[\"production\"], model_hour_14.predict())"
   ]
  },
  {
   "cell_type": "code",
   "execution_count": null,
   "metadata": {},
   "outputs": [],
   "source": [
    "df_hour_month_test = df_hour_test[\"date\"].dt.month\n",
    "df_hour_month_test = pd.get_dummies(df_hour_month_test, prefix=\"month\")\n",
    "for i in range(5,12):\n",
    "    df_hour_month_test[f\"month_{i}\"] = 0\n",
    "\n",
    "df_test = df_hour_month_test.copy()\n",
    "df_test[\"trend\"] = np.arange(len(df_test))\n",
    "df_test = sm.add_constant(df_test)\n",
    "\n",
    "features_test = df_hour_test.copy()\n",
    "features_test.drop(columns=[\"date\", \"hour\", \"production\"], inplace=True)\n",
    "lst = weather_df.columns[4:-10]\n",
    "for feature in lst:\n",
    "    feature_col = df_hour_test.columns[df_hour_test.columns.str.contains(feature)]\n",
    "    features_test[f\"mean_{feature}\"] = df_hour_test[feature_col].mean(axis=1)\n",
    "features_test = features_test.filter(regex=r'^mean_')\n",
    "features_test\n",
    "\n",
    "df_test.reset_index(drop=True, inplace=True)\n",
    "features_test.reset_index(drop=True, inplace=True)\n",
    "df_test = pd.concat([df_test, features_test], axis=1)\n",
    "\n",
    "df_test.drop(columns = drop_lst_hour_14, inplace = True)\n",
    "\n",
    "df_test[\"lag_2\"] = df_hour_test[\"production\"].shift(2, fill_value=0)\n",
    "df_test[\"ma_3\"] = df_hour_test[\"production\"].rolling(window=3).mean()\n",
    "df_test.fillna(method='bfill', inplace=True)\n",
    "\n",
    "df_test"
   ]
  },
  {
   "cell_type": "code",
   "execution_count": null,
   "metadata": {},
   "outputs": [],
   "source": [
    "accu(df_hour_test[\"production\"], model_hour_14.predict(df_test))"
   ]
  },
  {
   "cell_type": "code",
   "execution_count": null,
   "metadata": {},
   "outputs": [],
   "source": [
    "df_hour_month = df_hour[\"date\"].dt.month\n",
    "df_hour_month = pd.get_dummies(df_hour_month, prefix=\"month\")\n",
    "for i in range(5,12):\n",
    "    df_hour_month[f\"month_{i}\"] = 0\n",
    "\n",
    "df_predict = df_hour_month.copy()\n",
    "df_predict[\"trend\"] = np.arange(len(df_predict))\n",
    "df_predict = sm.add_constant(df_predict)\n",
    "\n",
    "features = df_hour.copy()\n",
    "features.drop(columns=[\"date\", \"hour\", \"production\"], inplace=True)\n",
    "lst = weather_df.columns[4:-10]\n",
    "for feature in lst:\n",
    "    feature_col = df_hour.columns[df_hour.columns.str.contains(feature)]\n",
    "    features[f\"mean_{feature}\"] = df_hour[feature_col].mean(axis=1)\n",
    "features = features.filter(regex=r'^mean_')\n",
    "\n",
    "df_predict.reset_index(drop=True, inplace=True)\n",
    "features.reset_index(drop=True, inplace=True)\n",
    "df_predict = pd.concat([df_predict, features], axis=1)\n",
    "\n",
    "df_predict.drop(columns = drop_lst_hour_14, inplace = True)\n",
    "\n",
    "df_predict[\"lag_2\"] = df_hour[\"production\"].shift(2, fill_value=0)\n",
    "df_predict[\"ma_3\"] = df_hour[\"production\"].rolling(window=3).mean()\n",
    "df_predict.fillna(method='bfill', inplace=True)\n",
    "\n",
    "df_predict"
   ]
  },
  {
   "cell_type": "code",
   "execution_count": null,
   "metadata": {},
   "outputs": [],
   "source": [
    "lm = sm.OLS(df_hour[\"production\"], df_predict)\n",
    "model_hour_14 = lm.fit()\n",
    "print(model_hour_14.summary())"
   ]
  },
  {
   "cell_type": "code",
   "execution_count": null,
   "metadata": {},
   "outputs": [],
   "source": [
    "accu(df_hour[\"production\"], model_hour_14.predict())"
   ]
  },
  {
   "cell_type": "markdown",
   "metadata": {},
   "source": [
    "# Hour 15"
   ]
  },
  {
   "cell_type": "code",
   "execution_count": null,
   "metadata": {},
   "outputs": [],
   "source": [
    "mask = df[\"hour\"] == 15\n",
    "df_hour = df[mask]\n",
    "df_hour.reset_index(drop=True, inplace=True)\n",
    "df_hour_train = df_hour[df_hour[\"date\"] < \"2024\"]\n",
    "df_hour_test = df_hour[df_hour[\"date\"] >= \"2024\"]\n",
    "df_hour_train.reset_index(drop=True, inplace=True)\n",
    "df_hour_test.reset_index(drop=True, inplace=True)\n",
    "\n",
    "df_hour"
   ]
  },
  {
   "cell_type": "code",
   "execution_count": null,
   "metadata": {},
   "outputs": [],
   "source": [
    "df_hour_month_train = df_hour_train[\"date\"].dt.month\n",
    "df_hour_month_train = pd.get_dummies(df_hour_month_train, prefix=\"month\")\n",
    "df_hour_month_train.drop(columns=[\"month_12\"], inplace=True)\n",
    "df_hour_month_train\n",
    "\n",
    "df_model_hour = df_hour_month_train.copy()\n",
    "df_model_hour[\"trend\"] = np.arange(len(df_model_hour))\n",
    "df_model_hour = sm.add_constant(df_model_hour)\n",
    "\n",
    "\n",
    "features_train = df_hour_train.copy()\n",
    "features_train.drop(columns=[\"date\", \"hour\", \"production\"], inplace=True)\n",
    "lst = weather_df.columns[4:-10]\n",
    "for feature in lst:\n",
    "    feature_col = df_hour_train.columns[df_hour_train.columns.str.contains(feature)]\n",
    "    features_train[f\"mean_{feature}\"] = df_hour_train[feature_col].mean(axis=1)\n",
    "features_train = features_train.filter(regex=r'^mean_')\n",
    "features_train\n",
    "\n",
    "df_model_hour= pd.concat([df_model_hour, features_train], axis=1)\n",
    "\n",
    "df_model_hour"
   ]
  },
  {
   "cell_type": "code",
   "execution_count": null,
   "metadata": {},
   "outputs": [],
   "source": [
    "lm = sm.OLS(df_hour_train[\"production\"], df_model_hour)\n",
    "result = lm.fit()\n",
    "print(result.summary())"
   ]
  },
  {
   "cell_type": "code",
   "execution_count": null,
   "metadata": {},
   "outputs": [],
   "source": [
    "drop_lst_hour_15 = [\"mean_csnow_surface\", \"mean_tcdc_high.cloud.layer\"]\n",
    "\n",
    "df_model_hour.drop(columns = drop_lst_hour_15, inplace = True)\n",
    "\n",
    "df_model_hour[\"lag_2\"] = df_hour_train[\"production\"].shift(2, fill_value=0)\n",
    "df_model_hour[\"ma_3\"] = df_hour_train[\"production\"].rolling(window=3).mean()\n",
    "df_model_hour.fillna(method='bfill', inplace=True)"
   ]
  },
  {
   "cell_type": "code",
   "execution_count": null,
   "metadata": {},
   "outputs": [],
   "source": [
    "lm = sm.OLS(df_hour_train[\"production\"], df_model_hour)\n",
    "model_hour_15 = lm.fit()\n",
    "print(model_hour_15.summary())"
   ]
  },
  {
   "cell_type": "code",
   "execution_count": null,
   "metadata": {},
   "outputs": [],
   "source": [
    "accu(df_hour_train[\"production\"], model_hour_15.predict())"
   ]
  },
  {
   "cell_type": "code",
   "execution_count": null,
   "metadata": {},
   "outputs": [],
   "source": [
    "df_hour_month_test = df_hour_test[\"date\"].dt.month\n",
    "df_hour_month_test = pd.get_dummies(df_hour_month_test, prefix=\"month\")\n",
    "for i in range(5,12):\n",
    "    df_hour_month_test[f\"month_{i}\"] = 0\n",
    "\n",
    "df_test = df_hour_month_test.copy()\n",
    "df_test[\"trend\"] = np.arange(len(df_test))\n",
    "df_test = sm.add_constant(df_test)\n",
    "\n",
    "features_test = df_hour_test.copy()\n",
    "features_test.drop(columns=[\"date\", \"hour\", \"production\"], inplace=True)\n",
    "lst = weather_df.columns[4:-10]\n",
    "for feature in lst:\n",
    "    feature_col = df_hour_test.columns[df_hour_test.columns.str.contains(feature)]\n",
    "    features_test[f\"mean_{feature}\"] = df_hour_test[feature_col].mean(axis=1)\n",
    "features_test = features_test.filter(regex=r'^mean_')\n",
    "features_test\n",
    "\n",
    "df_test.reset_index(drop=True, inplace=True)\n",
    "features_test.reset_index(drop=True, inplace=True)\n",
    "df_test = pd.concat([df_test, features_test], axis=1)\n",
    "\n",
    "df_test.drop(columns = drop_lst_hour_15, inplace = True)\n",
    "\n",
    "df_test[\"lag_2\"] = df_hour_test[\"production\"].shift(2, fill_value=0)\n",
    "df_test[\"ma_3\"] = df_hour_test[\"production\"].rolling(window=3).mean()\n",
    "df_test.fillna(method='bfill', inplace=True)\n",
    "\n",
    "df_test"
   ]
  },
  {
   "cell_type": "code",
   "execution_count": null,
   "metadata": {},
   "outputs": [],
   "source": [
    "accu(df_hour_test[\"production\"], model_hour_15.predict(df_test))"
   ]
  },
  {
   "cell_type": "code",
   "execution_count": null,
   "metadata": {},
   "outputs": [],
   "source": [
    "df_hour_month = df_hour[\"date\"].dt.month\n",
    "df_hour_month = pd.get_dummies(df_hour_month, prefix=\"month\")\n",
    "for i in range(5,12):\n",
    "    df_hour_month[f\"month_{i}\"] = 0\n",
    "\n",
    "df_predict = df_hour_month.copy()\n",
    "df_predict[\"trend\"] = np.arange(len(df_predict))\n",
    "df_predict = sm.add_constant(df_predict)\n",
    "\n",
    "features = df_hour.copy()\n",
    "features.drop(columns=[\"date\", \"hour\", \"production\"], inplace=True)\n",
    "lst = weather_df.columns[4:-10]\n",
    "for feature in lst:\n",
    "    feature_col = df_hour.columns[df_hour.columns.str.contains(feature)]\n",
    "    features[f\"mean_{feature}\"] = df_hour[feature_col].mean(axis=1)\n",
    "features = features.filter(regex=r'^mean_')\n",
    "\n",
    "df_predict.reset_index(drop=True, inplace=True)\n",
    "features.reset_index(drop=True, inplace=True)\n",
    "df_predict = pd.concat([df_predict, features], axis=1)\n",
    "\n",
    "df_predict.drop(columns = drop_lst_hour_15, inplace = True)\n",
    "\n",
    "df_predict[\"lag_2\"] = df_hour[\"production\"].shift(2, fill_value=0)\n",
    "df_predict[\"ma_3\"] = df_hour[\"production\"].rolling(window=3).mean()\n",
    "df_predict.fillna(method='bfill', inplace=True)\n",
    "\n",
    "df_predict"
   ]
  },
  {
   "cell_type": "code",
   "execution_count": null,
   "metadata": {},
   "outputs": [],
   "source": [
    "lm = sm.OLS(df_hour[\"production\"], df_predict)\n",
    "model_hour_15 = lm.fit()\n",
    "print(model_hour_15.summary())"
   ]
  },
  {
   "cell_type": "code",
   "execution_count": null,
   "metadata": {},
   "outputs": [],
   "source": [
    "accu(df_hour[\"production\"], model_hour_15.predict())"
   ]
  },
  {
   "cell_type": "markdown",
   "metadata": {},
   "source": [
    "# Hour 16"
   ]
  },
  {
   "cell_type": "code",
   "execution_count": null,
   "metadata": {},
   "outputs": [],
   "source": [
    "mask = df[\"hour\"] == 16\n",
    "df_hour = df[mask]\n",
    "df_hour.reset_index(drop=True, inplace=True)\n",
    "df_hour_train = df_hour[df_hour[\"date\"] < \"2024\"]\n",
    "df_hour_test = df_hour[df_hour[\"date\"] >= \"2024\"]\n",
    "df_hour_train.reset_index(drop=True, inplace=True)\n",
    "df_hour_test.reset_index(drop=True, inplace=True)\n",
    "\n",
    "df_hour"
   ]
  },
  {
   "cell_type": "code",
   "execution_count": null,
   "metadata": {},
   "outputs": [],
   "source": [
    "df_hour_month_train = df_hour_train[\"date\"].dt.month\n",
    "df_hour_month_train = pd.get_dummies(df_hour_month_train, prefix=\"month\")\n",
    "df_hour_month_train.drop(columns=[\"month_12\"], inplace=True)\n",
    "df_hour_month_train\n",
    "\n",
    "df_model_hour = df_hour_month_train.copy()\n",
    "df_model_hour[\"trend\"] = np.arange(len(df_model_hour))\n",
    "df_model_hour = sm.add_constant(df_model_hour)\n",
    "\n",
    "\n",
    "features_train = df_hour_train.copy()\n",
    "features_train.drop(columns=[\"date\", \"hour\", \"production\"], inplace=True)\n",
    "lst = weather_df.columns[4:-10]\n",
    "for feature in lst:\n",
    "    feature_col = df_hour_train.columns[df_hour_train.columns.str.contains(feature)]\n",
    "    features_train[f\"mean_{feature}\"] = df_hour_train[feature_col].mean(axis=1)\n",
    "features_train = features_train.filter(regex=r'^mean_')\n",
    "features_train\n",
    "\n",
    "df_model_hour= pd.concat([df_model_hour, features_train], axis=1)\n",
    "\n",
    "df_model_hour"
   ]
  },
  {
   "cell_type": "code",
   "execution_count": null,
   "metadata": {},
   "outputs": [],
   "source": [
    "lm = sm.OLS(df_hour_train[\"production\"], df_model_hour)\n",
    "result = lm.fit()\n",
    "print(result.summary())"
   ]
  },
  {
   "cell_type": "code",
   "execution_count": null,
   "metadata": {},
   "outputs": [],
   "source": [
    "drop_lst_hour_16 = [\"mean_csnow_surface\", \"mean_tcdc_middle.cloud.layer\"]\n",
    "\n",
    "df_model_hour.drop(columns = drop_lst_hour_16, inplace = True)\n",
    "\n",
    "df_model_hour[\"lag_2\"] = df_hour_train[\"production\"].shift(2, fill_value=0)\n",
    "df_model_hour[\"ma_3\"] = df_hour_train[\"production\"].rolling(window=3).mean()\n",
    "df_model_hour.fillna(method='bfill', inplace=True)"
   ]
  },
  {
   "cell_type": "code",
   "execution_count": null,
   "metadata": {},
   "outputs": [],
   "source": [
    "lm = sm.OLS(df_hour_train[\"production\"], df_model_hour)\n",
    "model_hour_16 = lm.fit()\n",
    "print(model_hour_16.summary())"
   ]
  },
  {
   "cell_type": "code",
   "execution_count": null,
   "metadata": {},
   "outputs": [],
   "source": [
    "accu(df_hour_train[\"production\"], model_hour_16.predict())"
   ]
  },
  {
   "cell_type": "code",
   "execution_count": null,
   "metadata": {},
   "outputs": [],
   "source": [
    "df_hour_month_test = df_hour_test[\"date\"].dt.month\n",
    "df_hour_month_test = pd.get_dummies(df_hour_month_test, prefix=\"month\")\n",
    "for i in range(5,12):\n",
    "    df_hour_month_test[f\"month_{i}\"] = 0\n",
    "\n",
    "df_test = df_hour_month_test.copy()\n",
    "df_test[\"trend\"] = np.arange(len(df_test))\n",
    "df_test = sm.add_constant(df_test)\n",
    "\n",
    "features_test = df_hour_test.copy()\n",
    "features_test.drop(columns=[\"date\", \"hour\", \"production\"], inplace=True)\n",
    "lst = weather_df.columns[4:-10]\n",
    "for feature in lst:\n",
    "    feature_col = df_hour_test.columns[df_hour_test.columns.str.contains(feature)]\n",
    "    features_test[f\"mean_{feature}\"] = df_hour_test[feature_col].mean(axis=1)\n",
    "features_test = features_test.filter(regex=r'^mean_')\n",
    "features_test\n",
    "\n",
    "df_test.reset_index(drop=True, inplace=True)\n",
    "features_test.reset_index(drop=True, inplace=True)\n",
    "df_test = pd.concat([df_test, features_test], axis=1)\n",
    "\n",
    "df_test.drop(columns = drop_lst_hour_16, inplace = True)\n",
    "\n",
    "df_test[\"lag_2\"] = df_hour_test[\"production\"].shift(2, fill_value=0)\n",
    "df_test[\"ma_3\"] = df_hour_test[\"production\"].rolling(window=3).mean()\n",
    "df_test.fillna(method='bfill', inplace=True)\n",
    "\n",
    "df_test"
   ]
  },
  {
   "cell_type": "code",
   "execution_count": null,
   "metadata": {},
   "outputs": [],
   "source": [
    "accu(df_hour_test[\"production\"], model_hour_16.predict(df_test))"
   ]
  },
  {
   "cell_type": "code",
   "execution_count": null,
   "metadata": {},
   "outputs": [],
   "source": [
    "df_hour_month = df_hour[\"date\"].dt.month\n",
    "df_hour_month = pd.get_dummies(df_hour_month, prefix=\"month\")\n",
    "for i in range(5,12):\n",
    "    df_hour_month[f\"month_{i}\"] = 0\n",
    "\n",
    "df_predict = df_hour_month.copy()\n",
    "df_predict[\"trend\"] = np.arange(len(df_predict))\n",
    "df_predict = sm.add_constant(df_predict)\n",
    "\n",
    "features = df_hour.copy()\n",
    "features.drop(columns=[\"date\", \"hour\", \"production\"], inplace=True)\n",
    "lst = weather_df.columns[4:-10]\n",
    "for feature in lst:\n",
    "    feature_col = df_hour.columns[df_hour.columns.str.contains(feature)]\n",
    "    features[f\"mean_{feature}\"] = df_hour[feature_col].mean(axis=1)\n",
    "features = features.filter(regex=r'^mean_')\n",
    "\n",
    "df_predict.reset_index(drop=True, inplace=True)\n",
    "features.reset_index(drop=True, inplace=True)\n",
    "df_predict = pd.concat([df_predict, features], axis=1)\n",
    "\n",
    "df_predict.drop(columns = drop_lst_hour_16, inplace = True)\n",
    "\n",
    "df_predict[\"lag_2\"] = df_hour[\"production\"].shift(2, fill_value=0)\n",
    "df_predict[\"ma_3\"] = df_hour[\"production\"].rolling(window=3).mean()\n",
    "df_predict.fillna(method='bfill', inplace=True)\n",
    "\n",
    "df_predict"
   ]
  },
  {
   "cell_type": "code",
   "execution_count": null,
   "metadata": {},
   "outputs": [],
   "source": [
    "lm = sm.OLS(df_hour[\"production\"], df_predict)\n",
    "model_hour_16 = lm.fit()\n",
    "print(model_hour_16.summary())"
   ]
  },
  {
   "cell_type": "code",
   "execution_count": null,
   "metadata": {},
   "outputs": [],
   "source": [
    "accu(df_hour[\"production\"], model_hour_16.predict())"
   ]
  },
  {
   "cell_type": "markdown",
   "metadata": {},
   "source": [
    "# Hour 17"
   ]
  },
  {
   "cell_type": "code",
   "execution_count": null,
   "metadata": {},
   "outputs": [],
   "source": [
    "mask = df[\"hour\"] == 17\n",
    "df_hour = df[mask]\n",
    "df_hour.reset_index(drop=True, inplace=True)\n",
    "df_hour_train = df_hour[df_hour[\"date\"] < \"2024\"]\n",
    "df_hour_test = df_hour[df_hour[\"date\"] >= \"2024\"]\n",
    "df_hour_train.reset_index(drop=True, inplace=True)\n",
    "df_hour_test.reset_index(drop=True, inplace=True)\n",
    "\n",
    "df_hour"
   ]
  },
  {
   "cell_type": "code",
   "execution_count": null,
   "metadata": {},
   "outputs": [],
   "source": [
    "df_hour_month_train = df_hour_train[\"date\"].dt.month\n",
    "df_hour_month_train = pd.get_dummies(df_hour_month_train, prefix=\"month\")\n",
    "df_hour_month_train.drop(columns=[\"month_12\"], inplace=True)\n",
    "df_hour_month_train\n",
    "\n",
    "df_model_hour = df_hour_month_train.copy()\n",
    "df_model_hour[\"trend\"] = np.arange(len(df_model_hour))\n",
    "df_model_hour = sm.add_constant(df_model_hour)\n",
    "\n",
    "\n",
    "features_train = df_hour_train.copy()\n",
    "features_train.drop(columns=[\"date\", \"hour\", \"production\"], inplace=True)\n",
    "lst = weather_df.columns[4:-10]\n",
    "for feature in lst:\n",
    "    feature_col = df_hour_train.columns[df_hour_train.columns.str.contains(feature)]\n",
    "    features_train[f\"mean_{feature}\"] = df_hour_train[feature_col].mean(axis=1)\n",
    "features_train = features_train.filter(regex=r'^mean_')\n",
    "features_train\n",
    "\n",
    "df_model_hour= pd.concat([df_model_hour, features_train], axis=1)\n",
    "\n",
    "df_model_hour"
   ]
  },
  {
   "cell_type": "code",
   "execution_count": null,
   "metadata": {},
   "outputs": [],
   "source": [
    "lm = sm.OLS(df_hour_train[\"production\"], df_model_hour)\n",
    "result = lm.fit()\n",
    "print(result.summary())"
   ]
  },
  {
   "cell_type": "code",
   "execution_count": null,
   "metadata": {},
   "outputs": [],
   "source": [
    "drop_lst_hour_17 = [\"mean_csnow_surface\"]\n",
    "\n",
    "df_model_hour.drop(columns = drop_lst_hour_17, inplace = True)\n",
    "\n",
    "df_model_hour[\"lag_2\"] = df_hour_train[\"production\"].shift(2, fill_value=0)\n",
    "df_model_hour[\"ma_3\"] = df_hour_train[\"production\"].rolling(window=3).mean()\n",
    "df_model_hour.fillna(method='bfill', inplace=True)"
   ]
  },
  {
   "cell_type": "code",
   "execution_count": null,
   "metadata": {},
   "outputs": [],
   "source": [
    "lm = sm.OLS(df_hour_train[\"production\"], df_model_hour)\n",
    "model_hour_17 = lm.fit()\n",
    "print(model_hour_17.summary())"
   ]
  },
  {
   "cell_type": "code",
   "execution_count": null,
   "metadata": {},
   "outputs": [],
   "source": [
    "accu(df_hour_train[\"production\"], model_hour_17.predict())"
   ]
  },
  {
   "cell_type": "code",
   "execution_count": null,
   "metadata": {},
   "outputs": [],
   "source": [
    "df_hour_month_test = df_hour_test[\"date\"].dt.month\n",
    "df_hour_month_test = pd.get_dummies(df_hour_month_test, prefix=\"month\")\n",
    "for i in range(5,12):\n",
    "    df_hour_month_test[f\"month_{i}\"] = 0\n",
    "\n",
    "df_test = df_hour_month_test.copy()\n",
    "df_test[\"trend\"] = np.arange(len(df_test))\n",
    "df_test = sm.add_constant(df_test)\n",
    "\n",
    "features_test = df_hour_test.copy()\n",
    "features_test.drop(columns=[\"date\", \"hour\", \"production\"], inplace=True)\n",
    "lst = weather_df.columns[4:-10]\n",
    "for feature in lst:\n",
    "    feature_col = df_hour_test.columns[df_hour_test.columns.str.contains(feature)]\n",
    "    features_test[f\"mean_{feature}\"] = df_hour_test[feature_col].mean(axis=1)\n",
    "features_test = features_test.filter(regex=r'^mean_')\n",
    "features_test\n",
    "\n",
    "df_test.reset_index(drop=True, inplace=True)\n",
    "features_test.reset_index(drop=True, inplace=True)\n",
    "df_test = pd.concat([df_test, features_test], axis=1)\n",
    "\n",
    "df_test.drop(columns = drop_lst_hour_17, inplace = True)\n",
    "\n",
    "df_test[\"lag_2\"] = df_hour_test[\"production\"].shift(2, fill_value=0)\n",
    "df_test[\"ma_3\"] = df_hour_test[\"production\"].rolling(window=3).mean()\n",
    "df_test.fillna(method='bfill', inplace=True)\n",
    "\n",
    "df_test"
   ]
  },
  {
   "cell_type": "code",
   "execution_count": null,
   "metadata": {},
   "outputs": [],
   "source": [
    "accu(df_hour_test[\"production\"], model_hour_17.predict(df_test))"
   ]
  },
  {
   "cell_type": "code",
   "execution_count": null,
   "metadata": {},
   "outputs": [],
   "source": [
    "df_hour_month = df_hour[\"date\"].dt.month\n",
    "df_hour_month = pd.get_dummies(df_hour_month, prefix=\"month\")\n",
    "for i in range(5,12):\n",
    "    df_hour_month[f\"month_{i}\"] = 0\n",
    "\n",
    "df_predict = df_hour_month.copy()\n",
    "df_predict[\"trend\"] = np.arange(len(df_predict))\n",
    "df_predict = sm.add_constant(df_predict)\n",
    "\n",
    "features = df_hour.copy()\n",
    "features.drop(columns=[\"date\", \"hour\", \"production\"], inplace=True)\n",
    "lst = weather_df.columns[4:-10]\n",
    "for feature in lst:\n",
    "    feature_col = df_hour.columns[df_hour.columns.str.contains(feature)]\n",
    "    features[f\"mean_{feature}\"] = df_hour[feature_col].mean(axis=1)\n",
    "features = features.filter(regex=r'^mean_')\n",
    "\n",
    "df_predict.reset_index(drop=True, inplace=True)\n",
    "features.reset_index(drop=True, inplace=True)\n",
    "df_predict = pd.concat([df_predict, features], axis=1)\n",
    "\n",
    "df_predict.drop(columns = drop_lst_hour_17, inplace = True)\n",
    "\n",
    "df_predict[\"lag_2\"] = df_hour[\"production\"].shift(2, fill_value=0)\n",
    "df_predict[\"ma_3\"] = df_hour[\"production\"].rolling(window=3).mean()\n",
    "df_predict.fillna(method='bfill', inplace=True)\n",
    "\n",
    "df_predict"
   ]
  },
  {
   "cell_type": "code",
   "execution_count": null,
   "metadata": {},
   "outputs": [],
   "source": [
    "lm = sm.OLS(df_hour[\"production\"], df_predict)\n",
    "model_hour_17 = lm.fit()\n",
    "print(model_hour_17.summary())"
   ]
  },
  {
   "cell_type": "code",
   "execution_count": null,
   "metadata": {},
   "outputs": [],
   "source": [
    "accu(df_hour[\"production\"], model_hour_17.predict())"
   ]
  },
  {
   "cell_type": "markdown",
   "metadata": {},
   "source": [
    "# Hour 18"
   ]
  },
  {
   "cell_type": "markdown",
   "metadata": {},
   "source": [
    "# Complete Model"
   ]
  },
  {
   "cell_type": "code",
   "execution_count": null,
   "metadata": {},
   "outputs": [],
   "source": [
    "cut_off_date = production_df[\"date\"].iloc[-1]\n",
    "next_day = cut_off_date + timedelta(days=2)\n",
    "predict_df = predict_df[predict_df[\"date\"] == next_day]"
   ]
  },
  {
   "cell_type": "code",
   "execution_count": null,
   "metadata": {},
   "outputs": [],
   "source": [
    "features = predict_df.copy()\n",
    "features.drop(columns=[\"date\", \"hour\"], inplace=True)\n",
    "lst = weather_df.columns[4:-10]\n",
    "\n",
    "for feature in lst:\n",
    "    feature_col = predict_df.columns[predict_df.columns.str.contains(feature)]\n",
    "    features[f\"mean_{feature}\"] = predict_df[feature_col].mean(axis=1)\n",
    "\n",
    "features = features.filter(regex=r'^mean_')\n",
    "features.reset_index(drop=True, inplace=True)\n",
    "\n",
    "df_month = predict_df[\"date\"].dt.month\n",
    "df_month = pd.get_dummies(df_month, prefix=\"month\")\n",
    "\n",
    "for i in range(1,13):\n",
    "    if i != 5:\n",
    "        df_month[f\"month_{i}\"] = 0\n",
    "\n",
    "column_order = ['month_' + str(i) for i in range(1, 13)] + ['trend']  \n",
    "df_month = df_month.reindex(columns=column_order)   \n",
    "\n",
    "df_predict = df_month.copy()\n",
    "df_predict[\"trend\"] = np.arange(len(df_predict))\n",
    "df_predict.insert(0, 'const', 1)\n",
    "\n",
    "\n",
    "df_predict.reset_index(drop=True, inplace=True)\n",
    "df_concat = pd.concat([df_predict, features], axis=1)\n",
    "\n",
    "production_2_day_before = production_df[\"production\"].iloc[-2*24:-24]\n",
    "\n",
    "df_concat[\"lag_2\"] = production_2_day_before.values\n",
    "\n",
    "last_3_production = production_df[\"production\"].iloc[-3*24:]\n",
    "last_3_production.reset_index(drop=True, inplace=True)\n",
    "\n",
    "moving_avg_3 = [(last_3_production[i] + last_3_production[i+24] + last_3_production[i + 48])/3 for i in range(len(last_3_production)-48)]\n",
    "\n",
    "df_concat[\"ma_3\"] = moving_avg_3\n",
    "\n",
    "df_concat"
   ]
  },
  {
   "cell_type": "code",
   "execution_count": null,
   "metadata": {},
   "outputs": [],
   "source": [
    "prediction = [0] * 4\n",
    "\n",
    "df_concat_hour_5 = df_concat.copy()\n",
    "df_concat_hour_5.drop(columns = drop_lst_hour_5, inplace = True)\n",
    "prediction.append(model_hour_5.predict(df_concat_hour_5.iloc[5]).iloc[0])\n",
    "\n",
    "df_concat_hour_6 = df_concat.copy()\n",
    "df_concat_hour_6.drop(columns = drop_lst_hour_6, inplace = True)\n",
    "prediction.append(model_hour_6.predict(df_concat_hour_6.iloc[6]).iloc[0])\n",
    "\n",
    "df_concat_hour_7 = df_concat.copy()\n",
    "df_concat_hour_7.drop(columns = drop_lst_hour_7, inplace = True)\n",
    "prediction.append(model_hour_7.predict(df_concat_hour_7.iloc[7]).iloc[0])\n",
    "\n",
    "df_concat_hour_8 = df_concat.copy()\n",
    "df_concat_hour_8.drop(columns = drop_lst_hour_8, inplace = True)\n",
    "prediction.append(model_hour_8.predict(df_concat_hour_8.iloc[8]).iloc[0])\n",
    "\n",
    "df_concat_hour_9 = df_concat.copy()\n",
    "df_concat_hour_9.drop(columns = drop_lst_hour_9, inplace = True)\n",
    "prediction.append(model_hour_9.predict(df_concat_hour_9.iloc[9]).iloc[0])\n",
    "\n",
    "df_concat_hour_10 = df_concat.copy()\n",
    "df_concat_hour_10.drop(columns = drop_lst_hour_10, inplace = True)\n",
    "prediction.append(model_hour_10.predict(df_concat_hour_10.iloc[10]).iloc[0])\n",
    "\n",
    "df_concat_hour_11 = df_concat.copy()\n",
    "df_concat_hour_11.drop(columns = drop_lst_hour_11, inplace = True)\n",
    "prediction.append(model_hour_11.predict(df_concat_hour_11.iloc[11]).iloc[0])\n",
    "\n",
    "df_concat_hour_12 = df_concat.copy()\n",
    "df_concat_hour_12.drop(columns = drop_lst_hour_12, inplace = True)\n",
    "prediction.append(model_hour_12.predict(df_concat_hour_12.iloc[12]).iloc[0])\n",
    "\n",
    "df_concat_hour_13 = df_concat.copy()\n",
    "df_concat_hour_13.drop(columns = drop_lst_hour_13, inplace = True)\n",
    "prediction.append(model_hour_13.predict(df_concat_hour_13.iloc[13]).iloc[0])\n",
    "\n",
    "df_concat_hour_14 = df_concat.copy()\n",
    "df_concat_hour_14.drop(columns = drop_lst_hour_14, inplace = True)\n",
    "prediction.append(model_hour_14.predict(df_concat_hour_14.iloc[14]).iloc[0])\n",
    "\n",
    "df_concat_hour_15 = df_concat.copy()\n",
    "df_concat_hour_15.drop(columns = drop_lst_hour_15, inplace = True)\n",
    "prediction.append(model_hour_15.predict(df_concat_hour_15.iloc[15]).iloc[0])\n",
    "\n",
    "df_concat_hour_16 = df_concat.copy()\n",
    "df_concat_hour_16.drop(columns = drop_lst_hour_16, inplace = True)\n",
    "prediction.append(model_hour_16.predict(df_concat_hour_16.iloc[16]).iloc[0])\n",
    "\n",
    "df_concat_hour_17 = df_concat.copy()\n",
    "df_concat_hour_17.drop(columns = drop_lst_hour_17, inplace = True)\n",
    "prediction.append(model_hour_17.predict(df_concat_hour_17.iloc[17]).iloc[0])\n",
    "\n",
    "prediction += [0] * 7\n",
    "prediction = [round(i,2) for i in prediction]\n",
    "\n",
    "formatted_list = \",\".join(map(str, prediction))\n",
    "\n",
    "print(next_day)\n",
    "print(\"\\n\")\n",
    "print(formatted_list)"
   ]
  }
 ],
 "metadata": {
  "kernelspec": {
   "display_name": "Python 3",
   "language": "python",
   "name": "python3"
  },
  "language_info": {
   "codemirror_mode": {
    "name": "ipython",
    "version": 3
   },
   "file_extension": ".py",
   "mimetype": "text/x-python",
   "name": "python",
   "nbconvert_exporter": "python",
   "pygments_lexer": "ipython3",
   "version": "3.12.3"
  }
 },
 "nbformat": 4,
 "nbformat_minor": 2
}
