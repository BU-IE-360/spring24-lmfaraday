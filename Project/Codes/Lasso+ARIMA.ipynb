{
 "cells": [
  {
   "cell_type": "code",
   "execution_count": null,
   "metadata": {},
   "outputs": [],
   "source": [
    "import pandas as pd\n",
    "import numpy as np \n",
    "import matplotlib.pyplot as plt \n",
    "from sklearn.preprocessing import MinMaxScaler \n",
    "from datetime import timedelta\n",
    "from statsmodels.tsa.stattools import acf \n",
    "import pmdarima as pm \n",
    "from sklearn.linear_model import LassoCV \n",
    "from sklearn.linear_model import Lasso\n",
    "import statsmodels.api as sm"
   ]
  },
  {
   "cell_type": "code",
   "execution_count": null,
   "metadata": {},
   "outputs": [],
   "source": [
    "production_data_loc = \"data/production.csv\"\n",
    "weather_data_loc = \"data/processed_weather.csv\""
   ]
  },
  {
   "cell_type": "code",
   "execution_count": null,
   "metadata": {},
   "outputs": [],
   "source": [
    "production_df = pd.read_csv(production_data_loc)\n",
    "production_df[\"date\"] = pd.to_datetime(production_df[\"date\"])\n",
    "production_df = production_df.iloc[4:] \n",
    "production_df = production_df.drop_duplicates()\n",
    "production_df.reset_index(drop=True, inplace=True) \n",
    "production_df[\"production\"] = production_df[\"production\"].apply(lambda x: 10 if x > 10 else x) \n",
    "\n",
    "production_df"
   ]
  },
  {
   "cell_type": "code",
   "execution_count": null,
   "metadata": {},
   "outputs": [],
   "source": [
    "weather_df = pd.read_csv(weather_data_loc) \n",
    "weather_df[\"date\"] = pd.to_datetime(weather_df[\"date\"], format='%Y-%m-%d') \n",
    "weather_df = weather_df.sort_values(by=['date', 'hour'])\n",
    "weather_df.reset_index(drop=True, inplace=True) \n",
    "\n",
    "weather_df"
   ]
  },
  {
   "cell_type": "code",
   "execution_count": null,
   "metadata": {},
   "outputs": [],
   "source": [
    "columns_to_pivot = weather_df.columns[4:]\n",
    "\n",
    "for col in columns_to_pivot:\n",
    "    weather_df[f'{col}_identifier'] = col + \"_\" + weather_df['lat'].astype(str) + \"_\" + weather_df['lon'].astype(str)\n",
    "\n",
    "pivoted_dfs = []\n",
    "for col in columns_to_pivot:\n",
    "    pivoted_df = pd.pivot(\n",
    "        weather_df,\n",
    "        index=['date', 'hour'],\n",
    "        columns=f'{col}_identifier',\n",
    "        values=col\n",
    "    )\n",
    "    pivoted_df.columns.name = None \n",
    "    pivoted_df.reset_index(inplace=True)  \n",
    "    pivoted_dfs.append(pivoted_df)\n",
    "\n",
    "result_df = pivoted_dfs[0]\n",
    "for df in pivoted_dfs[1:]:\n",
    "    result_df = result_df.merge(df, on=['date', 'hour'], how='outer') \n",
    "    \n",
    "df = result_df.iloc[:, :252] \n",
    "\n",
    "df"
   ]
  },
  {
   "cell_type": "code",
   "execution_count": null,
   "metadata": {},
   "outputs": [],
   "source": [
    "date = pd.to_datetime(\"2024-05-12\")\n",
    "df = df[df[\"date\"] != date]\n",
    "production_df = production_df[production_df[\"date\"] != date]"
   ]
  },
  {
   "cell_type": "code",
   "execution_count": null,
   "metadata": {},
   "outputs": [],
   "source": [
    "scaler = MinMaxScaler(feature_range=(0, 10)) \n",
    "\n",
    "columns_to_scale = df.columns[2:] \n",
    "\n",
    "df[columns_to_scale] = scaler.fit_transform(df[columns_to_scale])"
   ]
  },
  {
   "cell_type": "code",
   "execution_count": null,
   "metadata": {},
   "outputs": [],
   "source": [
    "end_date = production_df[\"date\"].iloc[-1]\n",
    "end_hour = production_df[\"hour\"].iloc[-1]\n",
    "\n",
    "predict_df = df.copy() \n",
    "\n",
    "cut_off_index = df[(df[\"date\"] == end_date) & (df[\"hour\"] == end_hour)].index.min() \n",
    "df = df.loc[:cut_off_index]\n",
    "df = pd.merge(df, production_df, on=[\"date\", \"hour\"], how = \"inner\")\n",
    "df.fillna(method='ffill', inplace=True)\n",
    "\n",
    "df"
   ]
  },
  {
   "cell_type": "code",
   "execution_count": null,
   "metadata": {},
   "outputs": [],
   "source": [
    "acf_values = acf(df[\"production\"], nlags=24*10)\n",
    "plt.figure(figsize=(20, 5))\n",
    "plt.plot(range(len(acf_values)), acf_values, marker='o', linestyle='-')\n",
    "for i in range(1, 11):\n",
    "    plt.axvline(x=24*i, color='red', linestyle='--')\n",
    "plt.xlabel(\"Lag\")\n",
    "plt.ylabel(\"Autocorrelation\")\n",
    "plt.show()"
   ]
  },
  {
   "cell_type": "code",
   "execution_count": null,
   "metadata": {},
   "outputs": [],
   "source": [
    "diff_24_production = [df[\"production\"][i] - df[\"production\"][i-24] for i in range(24, len(df[\"production\"]))]\n",
    "\n",
    "acf_values = acf(diff_24_production, nlags=24*10)\n",
    "plt.figure(figsize=(20, 5))\n",
    "plt.plot(range(len(acf_values)), acf_values, marker='o', linestyle='-')\n",
    "plt.xlabel(\"Lag\")\n",
    "plt.ylabel(\"Autocorrelation\")\n",
    "plt.show()"
   ]
  },
  {
   "cell_type": "code",
   "execution_count": null,
   "metadata": {},
   "outputs": [],
   "source": [
    "arima_model = pm.auto_arima(\n",
    "    diff_24_production,\n",
    "    start_d=0,\n",
    "    max_d=1,\n",
    "    seasonal=False,  \n",
    "    stepwise=True,   \n",
    "    trace=True,      \n",
    "    error_action='ignore',  \n",
    "    suppress_warnings=True, \n",
    "    max_order=10,     \n",
    "    information_criterion='bic',  \n",
    ")\n",
    "\n",
    "best_arima = arima_model.fit(diff_24_production)"
   ]
  },
  {
   "cell_type": "code",
   "execution_count": null,
   "metadata": {},
   "outputs": [],
   "source": [
    "best_arima.summary()"
   ]
  },
  {
   "cell_type": "code",
   "execution_count": null,
   "metadata": {},
   "outputs": [],
   "source": [
    "forecasted_values = list(df[\"production\"][:24])\n",
    "\n",
    "for diff in list(best_arima.fittedvalues()):\n",
    "    new_value = forecasted_values[-24] + diff\n",
    "    forecasted_values.append(new_value)\n",
    "\n",
    "forecasted_values = [max(0, i) for i in forecasted_values]\n",
    "\n",
    "plt.figure(figsize=(12, 8))\n",
    "plt.plot(range(len(df[\"production\"][:1000])),forecasted_values[:1000], label=\"Forecast\", c = \"red\")\n",
    "plt.plot(range(len(df[\"production\"][:1000])),df[\"production\"][:1000], label=\"Real\", c=\"blue\")\n",
    "plt.title(\"Forecast vs Real Production(Last 1000)\")\n",
    "plt.legend(loc=\"best\")\n",
    "plt.show()"
   ]
  },
  {
   "cell_type": "code",
   "execution_count": null,
   "metadata": {},
   "outputs": [],
   "source": [
    "features = df.copy()\n",
    "features.drop(columns=[\"date\", \"hour\", \"production\"], inplace=True)\n",
    "\n",
    "lst = weather_df.columns[4:-10]\n",
    "\n",
    "for feature in lst:\n",
    "    feature_col = df.columns[df.columns.str.contains(feature)]\n",
    "    features[f\"max_{feature}\"] = df[feature_col].max(axis=1)\n",
    "    features[f\"min_{feature}\"] = df[feature_col].min(axis=1)\n",
    "    features[f\"mean_{feature}\"] = df[feature_col].mean(axis=1)\n",
    "    features[f\"sum_{feature}\"] = df[feature_col].sum(axis=1)\n",
    "    features[f\"median_{feature}\"] = df[feature_col].median(axis=1)\n",
    "    features[f\"std_{feature}\"] = df[feature_col].std(axis=1)\n",
    "    features[f\"var_{feature}\"] = df[feature_col].var(axis=1)\n",
    "    features[f\"range_{feature}\"] = df[feature_col].max(axis=1) - df[feature_col].min(axis=1)\n",
    "\n",
    "features"
   ]
  },
  {
   "cell_type": "code",
   "execution_count": null,
   "metadata": {},
   "outputs": [],
   "source": [
    "lasso_cv = LassoCV(cv=5)\n",
    "lasso_cv.fit(features, df[\"production\"])\n",
    "\n",
    "optimal_lambda = lasso_cv.alpha_\n",
    "\n",
    "optimal_lambda"
   ]
  },
  {
   "cell_type": "code",
   "execution_count": null,
   "metadata": {},
   "outputs": [],
   "source": [
    "lasso = Lasso(optimal_lambda)\n",
    "\n",
    "lasso.fit(features, df[\"production\"])"
   ]
  },
  {
   "cell_type": "code",
   "execution_count": null,
   "metadata": {},
   "outputs": [],
   "source": [
    "lasso_result = lasso.predict(features)\n",
    "fitted = [max(0, i) for i in lasso_result]\n",
    "\n",
    "plt.figure(figsize=(25, 12))\n",
    "plt.plot(range(500, 2500), df[\"production\"][500:2500], label=\"Real Values\", color=\"blue\")\n",
    "plt.plot(range(500, 2500), fitted[500:2500], label=\"Fitted Values\", color=\"red\")\n",
    "plt.legend(loc=\"best\")\n",
    "plt.show()"
   ]
  },
  {
   "cell_type": "code",
   "execution_count": null,
   "metadata": {},
   "outputs": [],
   "source": [
    "df_combined = pd.DataFrame(data = [lasso_result, forecasted_values])\n",
    "df_combined = df_combined.T\n",
    "df_combined.columns = ['Lasso', 'Arima']\n",
    "df_combined = sm.add_constant(df_combined)\n",
    "\n",
    "df_combined"
   ]
  },
  {
   "cell_type": "code",
   "execution_count": null,
   "metadata": {},
   "outputs": [],
   "source": [
    "lm = sm.OLS(df[\"production\"], df_combined)\n",
    "result = lm.fit()\n",
    "print(result.summary())"
   ]
  },
  {
   "cell_type": "code",
   "execution_count": null,
   "metadata": {},
   "outputs": [],
   "source": [
    "fitted = [max(0, i) for i in result.fittedvalues]\n",
    "fitted = [min(10, i) for i in fitted]\n",
    "\n",
    "plt.figure(figsize=(20, 8))\n",
    "plt.plot(range(0, 500), df[\"production\"][-500:], label=\"Real Values\", color=\"blue\")\n",
    "plt.plot(range(0, 500), fitted[-500:], label=\"Fitted Values\", color=\"red\")\n",
    "plt.legend(loc=\"best\")\n",
    "plt.show()"
   ]
  },
  {
   "cell_type": "code",
   "execution_count": null,
   "metadata": {},
   "outputs": [],
   "source": [
    "result.resid.plot(kind=\"kde\", title=\"Residuals\", figsize=(10, 5))"
   ]
  },
  {
   "cell_type": "code",
   "execution_count": null,
   "metadata": {},
   "outputs": [],
   "source": [
    "residual = result.resid\n",
    "\n",
    "plt.figure(figsize = (12, 7))\n",
    "plt.scatter(range(len(df)),residual, label = \"Residual\", color = \"blue\", s = 10)\n",
    "plt.title(\"Residuals of the Model\")\n",
    "\n",
    "plt.show()"
   ]
  },
  {
   "cell_type": "code",
   "execution_count": null,
   "metadata": {},
   "outputs": [],
   "source": [
    "plt.figure(figsize=(12.5, 7))  \n",
    "plt.acorr(result.resid[:1000], maxlags=len(result.resid[:1000])-1, usevlines = False, marker='o')\n",
    "plt.axhline(y=0.125, color='red', linestyle='--') \n",
    "plt.axhline(y=-0.125, color='red', linestyle='--') \n",
    "plt.title(\"Autocorrelation of Residuals\")\n",
    "plt.xlim(0, 1020)\n",
    "plt.xlabel(\"Lag\")\n",
    "plt.ylabel(\"Autocorrelation\")\n",
    "plt.show()"
   ]
  },
  {
   "cell_type": "code",
   "execution_count": null,
   "metadata": {},
   "outputs": [],
   "source": [
    "cut_off_date = production_df[\"date\"].iloc[-1]\n",
    "\n",
    "next_day = cut_off_date + timedelta(days=2)\n",
    "\n",
    "result_df = predict_df[predict_df[\"date\"] == next_day]\n",
    "features = result_df.copy()\n",
    "features.drop(columns=[\"date\", \"hour\"], inplace=True)\n",
    "lst = weather_df.columns[4:-10]\n",
    "\n",
    "for feature in lst:\n",
    "    feature_col = result_df.columns[result_df.columns.str.contains(feature)]\n",
    "    features[f\"max_{feature}\"] = result_df[feature_col].max(axis=1)\n",
    "    features[f\"min_{feature}\"] = result_df[feature_col].min(axis=1)\n",
    "    features[f\"mean_{feature}\"] = result_df[feature_col].mean(axis=1)\n",
    "    features[f\"sum_{feature}\"] = result_df[feature_col].sum(axis=1)\n",
    "    features[f\"median_{feature}\"] = result_df[feature_col].median(axis=1)\n",
    "    features[f\"std_{feature}\"] = result_df[feature_col].std(axis=1)\n",
    "    features[f\"var_{feature}\"] = result_df[feature_col].var(axis=1)\n",
    "    features[f\"range_{feature}\"] = result_df[feature_col].max(axis=1) - result_df[feature_col].min(axis=1)\n",
    "\n",
    "lasso_pred = lasso.predict(features)"
   ]
  },
  {
   "cell_type": "code",
   "execution_count": null,
   "metadata": {},
   "outputs": [],
   "source": [
    "arima_res = best_arima.predict(n_periods = 24)\n",
    "last_24_hours = production_df[-24:]\n",
    "\n",
    "arima_pred = [last_24_hours[\"production\"].iloc[i] + arima_res[i] for i in range(len(arima_res))]"
   ]
  },
  {
   "cell_type": "code",
   "execution_count": null,
   "metadata": {},
   "outputs": [],
   "source": [
    "df_combined = pd.DataFrame(data = [lasso_pred, arima_pred])\n",
    "df_combined = df_combined.T\n",
    "df_combined.columns = ['Lasso', 'Arima']\n",
    "df_combined = sm.add_constant(df_combined)"
   ]
  },
  {
   "cell_type": "code",
   "execution_count": null,
   "metadata": {},
   "outputs": [],
   "source": [
    "prediction = result.predict(df_combined)\n",
    "prediction = [max(0, i) for i in prediction]\n",
    "prediction = [min(10, i) for i in prediction]\n",
    "prediction = [round(i,2) for i in prediction]"
   ]
  },
  {
   "cell_type": "code",
   "execution_count": null,
   "metadata": {},
   "outputs": [],
   "source": [
    "final_pred = [0] * 5 + prediction[5:16] + [0] * 8\n",
    "formatted_list = \",\".join(map(str, final_pred))\n",
    "\n",
    "print(next_day)\n",
    "print(\"\\n\")\n",
    "print(formatted_list)"
   ]
  }
 ],
 "metadata": {
  "kernelspec": {
   "display_name": "Python 3",
   "language": "python",
   "name": "python3"
  },
  "language_info": {
   "codemirror_mode": {
    "name": "ipython",
    "version": 3
   },
   "file_extension": ".py",
   "mimetype": "text/x-python",
   "name": "python",
   "nbconvert_exporter": "python",
   "pygments_lexer": "ipython3",
   "version": "3.12.3"
  }
 },
 "nbformat": 4,
 "nbformat_minor": 2
}
