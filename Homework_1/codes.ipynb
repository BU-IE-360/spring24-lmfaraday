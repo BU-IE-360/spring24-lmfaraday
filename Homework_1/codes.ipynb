{
 "cells": [
  {
   "cell_type": "code",
   "execution_count": null,
   "metadata": {},
   "outputs": [],
   "source": [
    "import pandas as pd # to read data and handle dataframe\n",
    "import matplotlib.pyplot as plt # to plot graphs\n",
    "import statsmodels.api as sm # to build the model\n",
    "from sklearn.preprocessing import MinMaxScaler # to scale the data\n",
    "from sklearn.model_selection import train_test_split # to split the data into train and test\n",
    "import numpy as np # to do mathematical operations\n"
   ]
  },
  {
   "cell_type": "code",
   "execution_count": null,
   "metadata": {},
   "outputs": [],
   "source": [
    "bank_data_loc = \"Data\\EVDS Data.xlsx\"\n",
    "\n",
    "# Read the data\n",
    "df_bank = pd.read_excel(bank_data_loc)\n",
    "df_bank = df_bank[:-23] # remove the last 23 rows which are not data\n",
    "\n",
    "# All of the EVDS data\n",
    "df_bank.head()"
   ]
  },
  {
   "cell_type": "code",
   "execution_count": null,
   "metadata": {},
   "outputs": [],
   "source": [
    "cigkofte_data_loc = \"Data\\cigkofte.csv\"\n",
    "faiz_orani_data_loc = \"Data\\mfaiz_orani.csv\"\n",
    "yemeksepeti_data_loc = \"Data\\yemeksepeti.csv\"\n",
    "kariyernet_data_loc = \"Data\\kariyer.net.csv\"\n",
    "is_ilani_data_loc = \"Data\\is_ilanı.csv\"\n",
    "tcmb_faiz_orani_loc = \"Data\\TCMB_faiz_orani.csv\"\n",
    "kredi_kart_borcu_loc = \"Data\\kredi_karti_borcu.csv\"\n",
    "\n",
    "# Read all of the data\n",
    "cigkofte_df = pd.read_csv(cigkofte_data_loc, skiprows=1) # skip the first row which is the column name\n",
    "faiz_df = pd.read_csv(faiz_orani_data_loc, skiprows=1)\n",
    "yemeksepeti_df = pd.read_csv(yemeksepeti_data_loc, skiprows=1)\n",
    "kariyernet_df = pd.read_csv(kariyernet_data_loc, skiprows=1)\n",
    "is_ilani_df = pd.read_csv(is_ilani_data_loc, skiprows=1)\n",
    "tcmb_faiz_orani_df = pd.read_csv(tcmb_faiz_orani_loc, skiprows=1)\n",
    "kredi_kart_borcu_df = pd.read_csv(kredi_kart_borcu_loc, skiprows=1)\n",
    "\n",
    "# Combine all of the dataframes\n",
    "merged_df = pd.merge(cigkofte_df, faiz_df, on='Ay')\n",
    "merged_df = pd.merge(merged_df, yemeksepeti_df, on='Ay')\n",
    "merged_df = pd.merge(merged_df, kariyernet_df, on='Ay')\n",
    "merged_df = pd.merge(merged_df, is_ilani_df, on='Ay')\n",
    "merged_df = pd.merge(merged_df, tcmb_faiz_orani_df, on='Ay')\n",
    "merged_df = pd.merge(merged_df, kredi_kart_borcu_df, on='Ay')\n",
    "\n",
    "merged_df[\"Tarih\"] = merged_df[\"Ay\"]\n",
    "merged_df.drop(\"Ay\", axis=1, inplace=True)\n",
    "\n",
    "# All of the Google Trends data\n",
    "merged_df.head() "
   ]
  },
  {
   "cell_type": "code",
   "execution_count": null,
   "metadata": {},
   "outputs": [],
   "source": [
    "df = pd.merge(df_bank, merged_df, on='Tarih') # merge the EVDS data with Google Trends data\n",
    "df.columns = [\"Date\", \"Unemployement\", \"Interest(2-14 days)\", \"Food Price Index\", \"Cigkofte\", \"Faiz_Orani\", \"Yemeksepeti\", \"Kariyer.net\", \"Is_ilani\", \"TCMB Faiz Orani\", \"Kredi Karti Borcu\"]\n",
    "df.index = df[\"Date\"]\n",
    "df.drop(\"Date\", axis=1, inplace=True)\n",
    "\n",
    "# All of the data\n",
    "df.head()"
   ]
  },
  {
   "cell_type": "code",
   "execution_count": null,
   "metadata": {},
   "outputs": [],
   "source": [
    "# To see the data types of the columns\n",
    "df.info()"
   ]
  },
  {
   "cell_type": "code",
   "execution_count": null,
   "metadata": {},
   "outputs": [],
   "source": [
    "# Convert the object type columns to float\n",
    "df[\"Unemployement\"] = df[\"Unemployement\"].astype(float) \n",
    "df[\"Interest(2-14 days)\"] = df[\"Interest(2-14 days)\"].astype(float)\n",
    "\n",
    "df.info()"
   ]
  },
  {
   "cell_type": "code",
   "execution_count": null,
   "metadata": {},
   "outputs": [],
   "source": [
    "# To see the statistical information of the data\n",
    "df.describe()"
   ]
  },
  {
   "cell_type": "code",
   "execution_count": null,
   "metadata": {},
   "outputs": [],
   "source": [
    "scaler = MinMaxScaler() # to scale the data\n",
    "\n",
    "# Scale all data to 0-100, like the Google Trends data\n",
    "df[\"Unemployement\"] = scaler.fit_transform(df[\"Unemployement\"].values.reshape(-1,1)) * 100\n",
    "df[\"Interest(2-14 days)\"] = scaler.fit_transform(df[\"Interest(2-14 days)\"].values.reshape(-1,1)) * 100\n",
    "df[\"Food Price Index\"] = scaler.fit_transform(df[\"Food Price Index\"].values.reshape(-1,1)) * 100\n",
    "df[\"Trend\"] = range(1, len(df) + 1) # to create a trend column\n",
    "\n",
    "df.head()"
   ]
  },
  {
   "cell_type": "code",
   "execution_count": null,
   "metadata": {},
   "outputs": [],
   "source": [
    "# To see the correlation between the columns\n",
    "df.corr()"
   ]
  },
  {
   "cell_type": "code",
   "execution_count": null,
   "metadata": {},
   "outputs": [],
   "source": [
    "# To see the correlation between the columns with plots\n",
    "pd.plotting.scatter_matrix(df, figsize=(20, 20), diagonal=\"kde\", s = 80)\n",
    "\n",
    "plt.show()"
   ]
  },
  {
   "cell_type": "code",
   "execution_count": null,
   "metadata": {},
   "outputs": [],
   "source": [
    "# Plot all of the data\n",
    "for col in df.columns:\n",
    "    plt.figure(figsize=(10, 5))\n",
    "    plt.plot(df[\"Trend\"], df[col], label=col, color=\"blue\")\n",
    "    plt.title(col)\n",
    "    plt.show()"
   ]
  },
  {
   "cell_type": "code",
   "execution_count": null,
   "metadata": {},
   "outputs": [],
   "source": [
    "# Plot the autocorrelation of the data\n",
    "for col in df.columns:\n",
    "    plt.figure(figsize=(10, 5))\n",
    "    pd.plotting.autocorrelation_plot(df[col])\n",
    "    plt.title(col)\n",
    "    plt.xlabel(\"Lag\")\n",
    "    plt.ylabel(\"Autocorrelation\")\n",
    "    plt.show()"
   ]
  },
  {
   "cell_type": "code",
   "execution_count": null,
   "metadata": {},
   "outputs": [],
   "source": [
    "a = df.copy()\n",
    "\n",
    "# Drop the columns which does not have a relation with the data in a sense\n",
    "a.drop([\"Faiz_Orani\", \"Cigkofte\", \"Yemeksepeti\", \"TCMB Faiz Orani\"], axis=1, inplace=True)  \n",
    "a.head()"
   ]
  },
  {
   "cell_type": "code",
   "execution_count": null,
   "metadata": {},
   "outputs": [],
   "source": [
    "# Plot the response variable\n",
    "plt.figure(figsize=(10, 5))\n",
    "plt.plot(a[\"Trend\"], a[\"Unemployement\"], label=\"Unemployement\", color=\"blue\")\n",
    "plt.show()"
   ]
  },
  {
   "cell_type": "code",
   "execution_count": null,
   "metadata": {},
   "outputs": [],
   "source": [
    "a = sm.add_constant(a) # Intercept term\n",
    "independent_set_1 = a[[\"const\", \"Trend\", \"Food Price Index\", \"Interest(2-14 days)\", \"Kredi Karti Borcu\", \"Kariyer.net\", \"Is_ilani\"]]\n",
    "\n",
    "lm = sm.OLS(a[\"Unemployement\"], independent_set_1)\n",
    "result = lm.fit()\n",
    "print(result.summary())"
   ]
  },
  {
   "cell_type": "code",
   "execution_count": null,
   "metadata": {},
   "outputs": [],
   "source": [
    "# Plot the autocorrelation\n",
    "plt.figure(figsize=(12, 8))\n",
    "pd.plotting.autocorrelation_plot(df[\"Unemployement\"])\n",
    "plt.title(\"Unemployement Autocorrelation\")\n",
    "plt.xlabel(\"Lag\")\n",
    "plt.ylabel(\"Autocorrelation\")\n",
    "# To show monthly autocorrelation\n",
    "for i in range(12, 120, 12):\n",
    "    plt.axvline(x=i, color='black', linestyle='--', label=\"Lag \" + str(i))\n",
    "plt.legend(loc=\"best\")\n",
    "plt.show()"
   ]
  },
  {
   "cell_type": "code",
   "execution_count": null,
   "metadata": {},
   "outputs": [],
   "source": [
    "months = [\"January\", \"February\", \"March\", \"April\", \"May\", \"June\", \"July\", \"August\", \"September\", \"October\", \"November\"]\n",
    "\n",
    "# Create a column for each month\n",
    "for m in months:\n",
    "    a[m] = [1 if int(i.split(\"-\")[1]) - 1 == months.index(m) else 0 for i in a.index]\n",
    "    \n",
    "a.head()"
   ]
  },
  {
   "cell_type": "code",
   "execution_count": null,
   "metadata": {},
   "outputs": [],
   "source": [
    " #  Model with monthly categorical variables\n",
    "independent_set_2 = a[[\"const\", \"Trend\", \"Food Price Index\", \"Interest(2-14 days)\", \"Kredi Karti Borcu\", \"Kariyer.net\", \"Is_ilani\"] + months]\n",
    "\n",
    "lm = sm.OLS(a[\"Unemployement\"], independent_set_2)\n",
    "result = lm.fit()\n",
    "print(result.summary())"
   ]
  },
  {
   "cell_type": "code",
   "execution_count": null,
   "metadata": {},
   "outputs": [],
   "source": [
    "# Plot the autocorrelation\n",
    "plt.figure(figsize=(12, 8))\n",
    "pd.plotting.autocorrelation_plot(df[\"Unemployement\"])\n",
    "plt.title(\"Unemployement Autocorrelation\")\n",
    "plt.xlabel(\"Lag\")\n",
    "plt.ylabel(\"Autocorrelation\")\n",
    "# To show autocorrelation in a year\n",
    "for i in range(13): \n",
    "    plt.axvline(x=i, color='g', linestyle='--')\n",
    "plt.show()"
   ]
  },
  {
   "cell_type": "code",
   "execution_count": null,
   "metadata": {},
   "outputs": [],
   "source": [
    "year = [\"2015\", \"2016\", \"2017\", \"2018\", \"2019\", \"2020\", \"2021\", \"2022\", \"2023\"]\n",
    "\n",
    "# Create a column for each year\n",
    "for y in year:\n",
    "    a[y] = [1 if int(i.split(\"-\")[0]) == int(y) else 0 for i in a.index]\n",
    "    \n",
    "a.head()"
   ]
  },
  {
   "cell_type": "code",
   "execution_count": null,
   "metadata": {},
   "outputs": [],
   "source": [
    "# Model with monthly and yearly categorical variables\n",
    "independent_set_3 = a[[\"const\", \"Trend\", \"Food Price Index\", \"Interest(2-14 days)\", \"Kredi Karti Borcu\", \"Kariyer.net\", \"Is_ilani\"] + months + year]\n",
    "\n",
    "lm = sm.OLS(a[\"Unemployement\"], independent_set_3)\n",
    "result = lm.fit()\n",
    "print(result.summary())"
   ]
  },
  {
   "cell_type": "code",
   "execution_count": null,
   "metadata": {},
   "outputs": [],
   "source": [
    "# Model after dropping the columns which are not significant\n",
    "independent_set_4 = a[[\"const\", \"Trend\", \"Food Price Index\", \"Interest(2-14 days)\", \"Is_ilani\"] + months + year]\n",
    "\n",
    "lm = sm.OLS(a[\"Unemployement\"], independent_set_4)\n",
    "result = lm.fit()\n",
    "print(result.summary())"
   ]
  },
  {
   "cell_type": "code",
   "execution_count": null,
   "metadata": {},
   "outputs": [],
   "source": [
    "# Plot the data\n",
    "plt.figure(figsize=(12, 7))\n",
    "plt.plot(a[\"Trend\"], a[\"Unemployement\"], label=\"Real Values\", color=\"blue\")\n",
    "plt.axvline(x = 45, color='black', linestyle='--', label=\"Trend Split Point\") # to show the split point\n",
    "plt.legend(loc=\"best\")\n",
    "plt.show()"
   ]
  },
  {
   "cell_type": "code",
   "execution_count": null,
   "metadata": {},
   "outputs": [],
   "source": [
    "a[\"Trend_1\"] = list(range(1, 46)) + [0] * 63\n",
    "a[\"Trend_2\"] = [0] * 45 + list(range(46, len(a) + 1))\n",
    "\n",
    "a.head()"
   ]
  },
  {
   "cell_type": "code",
   "execution_count": null,
   "metadata": {},
   "outputs": [],
   "source": [
    "# Model with splitted trend\n",
    "independent_set_5 = a[[\"const\", \"Trend\", \"Food Price Index\", \"Interest(2-14 days)\", \"Is_ilani\", \"Trend_1\", \"Trend_2\"] + months + year]\n",
    "\n",
    "lm = sm.OLS(a[\"Unemployement\"], independent_set_5)\n",
    "result = lm.fit()\n",
    "print(result.summary())"
   ]
  },
  {
   "cell_type": "code",
   "execution_count": null,
   "metadata": {},
   "outputs": [],
   "source": [
    "# Compare all of the models\n",
    "\n",
    "independent_sets = [independent_set_1, independent_set_2, independent_set_3, independent_set_4, independent_set_5]\n",
    "results_test = []\n",
    "results_train = []\n",
    "\n",
    "for set in independent_sets:\n",
    "    train = []\n",
    "    test = []\n",
    "    for _ in range(1000): # 1000 times to get a more stable result\n",
    "        X_train, X_test, y_train, y_test = train_test_split(set, a[\"Unemployement\"], test_size=0.2) # split the data into train and test\n",
    "        lm = sm.OLS(y_train, X_train)\n",
    "        result = lm.fit()\n",
    "        # MSE\n",
    "        train.append(np.mean(result.resid ** 2))\n",
    "        test.append(np.mean((result.predict(X_test) - y_test) ** 2))\n",
    "        \n",
    "    results_train.append(np.mean(train)) \n",
    "    results_test.append(np.mean(test))\n",
    "\n",
    "plt.figure(figsize=(10, 5))\n",
    "plt.plot(range(1, 6), results_train, label=\"Train\")\n",
    "plt.plot(range(1, 6), results_test, label=\"Test\")\n",
    "plt.legend(loc=\"best\")\n",
    "plt.show()"
   ]
  },
  {
   "cell_type": "code",
   "execution_count": null,
   "metadata": {},
   "outputs": [],
   "source": [
    "best_set = independent_set_5.copy() # the best set is the one with the lowest test error to prevent overfitting\n",
    "\n",
    "lm = sm.OLS(a[\"Unemployement\"], best_set)\n",
    "result = lm.fit()\n",
    "print(result.summary())"
   ]
  },
  {
   "cell_type": "code",
   "execution_count": null,
   "metadata": {},
   "outputs": [],
   "source": [
    "#Plot the fitted values and the real values\n",
    "plt.figure(figsize=(13, 8))\n",
    "plt.plot(a[\"Trend\"], a[\"Unemployement\"], label=\"Real Values\", color=\"blue\")\n",
    "plt.plot(a[\"Trend\"], result.fittedvalues, label=\"Fitted Values\", color=\"red\")\n",
    "plt.legend(loc=\"best\")\n",
    "plt.show()"
   ]
  },
  {
   "cell_type": "code",
   "execution_count": null,
   "metadata": {},
   "outputs": [],
   "source": [
    "#Check normality of the residuals\n",
    "result.resid.plot(kind=\"kde\", title=\"Residuals\", figsize=(10, 5))"
   ]
  },
  {
   "cell_type": "code",
   "execution_count": null,
   "metadata": {},
   "outputs": [],
   "source": [
    "residual = result.resid\n",
    "\n",
    "plt.figure(figsize = (12, 7))\n",
    "plt.scatter(df[\"Trend\"],residual, label = \"Residual\", color = \"blue\", s = 10)\n",
    "plt.title(\"Residuals of the Model\")\n",
    "\n",
    "plt.show()"
   ]
  },
  {
   "cell_type": "code",
   "execution_count": null,
   "metadata": {},
   "outputs": [],
   "source": [
    "plt.figure(figsize=(10, 6))  \n",
    "plt.acorr(residual, maxlags=len(residual)-1, usevlines = False, marker='o')\n",
    "plt.axhline(y=0.125, color='red', linestyle='--') \n",
    "plt.axhline(y=-0.125, color='red', linestyle='--') \n",
    "plt.title(\"Autocorrelation of Residuals\")\n",
    "plt.xlim(0, )\n",
    "plt.xlabel(\"Lag\")\n",
    "plt.ylabel(\"Autocorrelation\")\n",
    "plt.show()"
   ]
  },
  {
   "cell_type": "code",
   "execution_count": null,
   "metadata": {},
   "outputs": [],
   "source": [
    "# Read the data\n",
    "linkedin_data_loc = \"Data\\linkedin.csv\"\n",
    "linkedin_df = pd.read_csv(linkedin_data_loc, skiprows = 1)\n",
    "linkedin_df.columns = [\"Month\", \"Linkedin\"]\n",
    "\n",
    "a[\"Linkedin\"] = list(linkedin_df[\"Linkedin\"]) # add the data to the dataframe\n",
    "\n",
    "# Read the data\n",
    "issizlik_maasi_data_loc = \"Data\\issizlikmaasi.csv\"\n",
    "issizlik_maasi_df = pd.read_csv(issizlik_maasi_data_loc, skiprows = 1)\n",
    "issizlik_maasi_df.columns = [\"Month\", \"Issizlik Maasi\"]\n",
    "\n",
    "a[\"İssizlik Maasi\"] = list(issizlik_maasi_df[\"Issizlik Maasi\"]) # add the data to the dataframe\n",
    "\n",
    "\n",
    "a.head()"
   ]
  },
  {
   "cell_type": "code",
   "execution_count": null,
   "metadata": {},
   "outputs": [],
   "source": [
    "# Plot the new data\n",
    "plt.figure(figsize=(10, 5))\n",
    "\n",
    "plt.plot(a[\"Trend\"], a[\"Linkedin\"], label=\"Linkedin\", color=\"red\")\n",
    "plt.plot(a[\"Trend\"], a[\"İssizlik Maasi\"], label=\"İssizlik Maasi\", color=\"green\")\n",
    "plt.legend(loc=\"best\")\n",
    "\n",
    "plt.show()"
   ]
  },
  {
   "cell_type": "code",
   "execution_count": null,
   "metadata": {},
   "outputs": [],
   "source": [
    "# Model with additional data\n",
    "independent_set_6 = a[[\"const\", \"Trend\", \"Food Price Index\", \"Interest(2-14 days)\", \"Is_ilani\", \"Trend_1\", \"Trend_2\", \"Linkedin\", \"İssizlik Maasi\"] + months + year]\n",
    "\n",
    "lm = sm.OLS(a[\"Unemployement\"], independent_set_6)\n",
    "result = lm.fit()\n",
    "print(result.summary())"
   ]
  },
  {
   "cell_type": "code",
   "execution_count": null,
   "metadata": {},
   "outputs": [],
   "source": [
    "#Plot the fitted values and the real values\n",
    "plt.figure(figsize=(13, 8))\n",
    "plt.plot(a[\"Trend\"], a[\"Unemployement\"], label=\"Real Values\", color=\"blue\")\n",
    "plt.plot(a[\"Trend\"], result.fittedvalues, label=\"Fitted Values\", color=\"red\")\n",
    "plt.legend(loc=\"best\")\n",
    "plt.show()"
   ]
  },
  {
   "cell_type": "code",
   "execution_count": null,
   "metadata": {},
   "outputs": [],
   "source": [
    "#Check normality of the residuals\n",
    "result.resid.plot(kind=\"kde\", title=\"Residuals\", figsize=(10, 5))"
   ]
  },
  {
   "cell_type": "code",
   "execution_count": null,
   "metadata": {},
   "outputs": [],
   "source": [
    "residual = result.resid\n",
    "\n",
    "plt.figure(figsize = (12, 7))\n",
    "plt.scatter(df[\"Trend\"],residual, label = \"Residual\", color = \"blue\", s = 10)\n",
    "plt.title(\"Residuals of the Model\")\n",
    "\n",
    "plt.show()"
   ]
  },
  {
   "cell_type": "code",
   "execution_count": null,
   "metadata": {},
   "outputs": [],
   "source": [
    "plt.figure(figsize=(10, 6))  \n",
    "plt.acorr(residual, maxlags=len(residual)-1, usevlines = False, marker='o')\n",
    "plt.axhline(y=0.125, color='red', linestyle='--') \n",
    "plt.axhline(y=-0.125, color='red', linestyle='--') \n",
    "plt.title(\"Autocorrelation of Residuals\")\n",
    "plt.xlim(0, )\n",
    "plt.xlabel(\"Lag\")\n",
    "plt.ylabel(\"Autocorrelation\")\n",
    "plt.show()"
   ]
  },
  {
   "cell_type": "code",
   "execution_count": null,
   "metadata": {},
   "outputs": [],
   "source": [
    "# Delete variables \n",
    "del a, independent_set_1, independent_set_2, independent_set_3, independent_set_4, independent_set_5, independent_set_6 ,best_set, lm, result, residual"
   ]
  },
  {
   "cell_type": "code",
   "execution_count": null,
   "metadata": {},
   "outputs": [],
   "source": [
    "a = df.copy()\n",
    "\n",
    "# Drop the columns which does not have a relation with the data in a sense\n",
    "a.drop([\"TCMB Faiz Orani\", \"Kredi Karti Borcu\", \"Is_ilani\", \"Kariyer.net\", \"Faiz_Orani\"], axis=1, inplace=True)  \n",
    "\n",
    "a.head()"
   ]
  },
  {
   "cell_type": "code",
   "execution_count": null,
   "metadata": {},
   "outputs": [],
   "source": [
    "# Plot the response variable\n",
    "plt.figure(figsize=(12, 8))\n",
    "plt.plot(a[\"Trend\"], a[\"Food Price Index\"], color=\"blue\")\n",
    "plt.show()"
   ]
  },
  {
   "cell_type": "code",
   "execution_count": null,
   "metadata": {},
   "outputs": [],
   "source": [
    "a = sm.add_constant(a) # Intercept term\n",
    "\n",
    "# Model with the columns which are related to the response variable by sense\n",
    "independent_set_1 = a[[\"const\", \"Cigkofte\", \"Unemployement\", \"Interest(2-14 days)\", \"Trend\", \"Yemeksepeti\"]]\n",
    "\n",
    "lm = sm.OLS(a[\"Food Price Index\"], independent_set_1)\n",
    "result = lm.fit()\n",
    "print(result.summary())"
   ]
  },
  {
   "cell_type": "code",
   "execution_count": null,
   "metadata": {},
   "outputs": [],
   "source": [
    "# Plot the autocorrelation\n",
    "plt.figure(figsize=(10, 6))\n",
    "pd.plotting.autocorrelation_plot(df[\"Food Price Index\"])\n",
    "plt.title(\"Food Price Index Autocorrelation\")\n",
    "plt.xlabel(\"Lag\")\n",
    "plt.ylabel(\"Autocorrelation\")\n",
    "# To show autocorrelation in yearly basis\n",
    "for _ in range(13): \n",
    "    plt.axvline(x=_, color='g', linestyle='--')\n",
    "plt.legend(loc=\"best\")\n",
    "plt.show()"
   ]
  },
  {
   "cell_type": "code",
   "execution_count": null,
   "metadata": {},
   "outputs": [],
   "source": [
    "year = [\"2015\", \"2016\", \"2017\", \"2018\", \"2019\", \"2020\", \"2021\", \"2022\"] # No 2023 because there is intercept\n",
    "\n",
    "# Create a column for each year\n",
    "for y in year:\n",
    "    a[y] = [1 if int(i.split(\"-\")[0]) == int(y) else 0 for i in a.index]\n",
    "    \n",
    "a.head()"
   ]
  },
  {
   "cell_type": "code",
   "execution_count": null,
   "metadata": {},
   "outputs": [],
   "source": [
    "# Model with yearly categorical variables\n",
    "independent_set_2 = a[[\"const\", \"Cigkofte\", \"Unemployement\", \"Interest(2-14 days)\", \"Trend\", \"Yemeksepeti\"] + year]\n",
    "\n",
    "lm = sm.OLS(a[\"Food Price Index\"], independent_set_2)\n",
    "result = lm.fit()\n",
    "print(result.summary())"
   ]
  },
  {
   "cell_type": "code",
   "execution_count": null,
   "metadata": {},
   "outputs": [],
   "source": [
    "# Model after dropping the columns which are not significant\n",
    "independent_set_3 = a[[\"const\", \"Unemployement\", \"Interest(2-14 days)\", \"Trend\", \"Yemeksepeti\"] + year]\n",
    "\n",
    "lm = sm.OLS(a[\"Food Price Index\"], independent_set_3)\n",
    "result = lm.fit()\n",
    "print(result.summary())"
   ]
  },
  {
   "cell_type": "code",
   "execution_count": null,
   "metadata": {},
   "outputs": [],
   "source": [
    "# To see relations between the data\n",
    "for col in a:\n",
    "    if col not in year:\n",
    "        plt.figure(figsize=(10, 5))\n",
    "        plt.plot(a[\"Food Price Index\"], a[col], label=col, color=\"blue\")\n",
    "        plt.legend(loc=\"best\")\n",
    "        plt.show()"
   ]
  },
  {
   "cell_type": "code",
   "execution_count": null,
   "metadata": {},
   "outputs": [],
   "source": [
    "a[\"e^Trend\"] = np.exp(-a[\"Trend\"])\n",
    "a[\"Interest(2-14 days)_2\"] = [0] * 38 + [np.exp(-i) for i in a[\"Interest(2-14 days)\"][:70]]\n",
    "a[\"Cigkofte_2\"] = [np.exp(-i) for i in a[\"Cigkofte\"][:18]] + [0] * len(a[\"Cigkofte\"][18:])\n",
    "a[\"Cigkofte_3\"] = [0] * len(a[\"Cigkofte\"][:65]) + [1 for i in a[\"Cigkofte\"][65:]] \n",
    "a[\"Trend_2\"] = [0] * 81 + [1 for i in a[\"Trend\"][81:]]"
   ]
  },
  {
   "cell_type": "code",
   "execution_count": null,
   "metadata": {},
   "outputs": [],
   "source": [
    "# Model after adding new variables\n",
    "independent_set_4 = a[[\"const\", \"Unemployement\", \"Interest(2-14 days)\", \"Trend\", \"Yemeksepeti\", \"e^Trend\", \"Interest(2-14 days)_2\", \"Cigkofte_2\", \"Cigkofte_3\", \"Trend_2\"] + year]\n",
    "\n",
    "lm = sm.OLS(a[\"Food Price Index\"], independent_set_4)\n",
    "result = lm.fit()\n",
    "print(result.summary())"
   ]
  },
  {
   "cell_type": "code",
   "execution_count": null,
   "metadata": {},
   "outputs": [],
   "source": [
    "# Model after dropping the columns which are not significant\n",
    "independent_set_5 = a[[\"const\", \"Unemployement\", \"Interest(2-14 days)\", \"Trend\", \"Yemeksepeti\", \"e^Trend\", \"Interest(2-14 days)_2\", \"Cigkofte_3\", \"Trend_2\"] + year]\n",
    "\n",
    "lm = sm.OLS(a[\"Food Price Index\"], independent_set_5)\n",
    "result = lm.fit()"
   ]
  },
  {
   "cell_type": "code",
   "execution_count": null,
   "metadata": {},
   "outputs": [],
   "source": [
    "# Model with splitted trend\n",
    "independent_set_6 = a[[\"const\", \"Unemployement\", \"Interest(2-14 days)\", \"Trend\", \"Yemeksepeti\", \"e^Trend\"] + year]\n",
    "\n",
    "lm = sm.OLS(a[\"Food Price Index\"], independent_set_4)\n",
    "result = lm.fit()\n",
    "print(result.summary())"
   ]
  },
  {
   "cell_type": "code",
   "execution_count": null,
   "metadata": {},
   "outputs": [],
   "source": [
    "# Compare all of the models\n",
    "independent_sets = [independent_set_1, independent_set_2, independent_set_3, independent_set_4, independent_set_5, independent_set_6]\n",
    "results_test = []\n",
    "results_train = []\n",
    "\n",
    "for set in independent_sets:\n",
    "    train = []\n",
    "    test = []\n",
    "    for _ in range(1000): # 1000 times to get a more stable result\n",
    "        X_train, X_test, y_train, y_test = train_test_split(set, a[\"Unemployement\"], test_size=0.2) # split the data into train and test\n",
    "        lm = sm.OLS(y_train, X_train)\n",
    "        result = lm.fit()\n",
    "        #MSE\n",
    "        train.append(np.mean(result.resid ** 2))\n",
    "        test.append(np.mean((result.predict(X_test) - y_test) ** 2))\n",
    "        \n",
    "    results_train.append(np.mean(train)) \n",
    "    results_test.append(np.mean(test))\n",
    "\n",
    "plt.figure(figsize=(10, 5))\n",
    "plt.plot(range(1, 7), results_train, label=\"Train\")\n",
    "plt.plot(range(1, 7), results_test, label=\"Test\")\n",
    "plt.legend(loc=\"best\")\n",
    "plt.show()"
   ]
  },
  {
   "cell_type": "code",
   "execution_count": null,
   "metadata": {},
   "outputs": [],
   "source": [
    "plt.figure(figsize=(10, 5))\n",
    "plt.plot(range(3, 7), results_train[2:], label=\"Train\")\n",
    "plt.plot(range(3, 7), results_test[2:], label=\"Test\")\n",
    "plt.legend(loc=\"best\")\n",
    "plt.show()"
   ]
  },
  {
   "cell_type": "code",
   "execution_count": null,
   "metadata": {},
   "outputs": [],
   "source": [
    "best_set = independent_set_3.copy()\n",
    "\n",
    "lm = sm.OLS(a[\"Food Price Index\"], best_set)\n",
    "result = lm.fit()\n",
    "print(result.summary())"
   ]
  },
  {
   "cell_type": "code",
   "execution_count": null,
   "metadata": {},
   "outputs": [],
   "source": [
    "# Plot the fitted values and the real values\n",
    "plt.figure(figsize=(13, 8))\n",
    "plt.plot(a[\"Trend\"], a[\"Food Price Index\"], label=\"Real Values\", color=\"blue\")\n",
    "plt.plot(a[\"Trend\"], result.fittedvalues, label=\"Fitted Values\", color=\"red\")\n",
    "plt.legend(loc=\"best\")\n",
    "plt.show()"
   ]
  },
  {
   "cell_type": "code",
   "execution_count": null,
   "metadata": {},
   "outputs": [],
   "source": [
    "# Check normality of the residuals\n",
    "result.resid.plot(kind=\"kde\", title=\"Residuals\", figsize=(10, 5))"
   ]
  },
  {
   "cell_type": "code",
   "execution_count": null,
   "metadata": {},
   "outputs": [],
   "source": [
    "# Check autocorrelation of the residuals\n",
    "residual = result.resid\n",
    "\n",
    "plt.figure(figsize = (12, 7))\n",
    "plt.scatter(df[\"Trend\"],residual, label = \"Residual\", color = \"blue\", s = 10)\n",
    "plt.title(\"Residuals of the Model\")\n",
    "\n",
    "plt.show()"
   ]
  },
  {
   "cell_type": "code",
   "execution_count": null,
   "metadata": {},
   "outputs": [],
   "source": [
    "plt.figure(figsize=(10, 6))  \n",
    "plt.acorr(residual, maxlags=len(residual)-1, usevlines = False, marker='o')\n",
    "plt.axhline(y=0.125, color='red', linestyle='--') \n",
    "plt.axhline(y=-0.125, color='red', linestyle='--') \n",
    "plt.title(\"Autocorrelation of Residuals\")\n",
    "plt.xlim(0, )\n",
    "plt.xlabel(\"Lag\")\n",
    "plt.ylabel(\"Autocorrelation\")\n",
    "plt.show()"
   ]
  },
  {
   "cell_type": "code",
   "execution_count": null,
   "metadata": {},
   "outputs": [],
   "source": [
    "# Read the data\n",
    "getir_data_loc = \"Data\\getir.csv\"\n",
    "getir_df = pd.read_csv(getir_data_loc, skiprows = 1)\n",
    "getir_df.columns = [\"Month\", \"Getir\"]\n",
    "\n",
    "a[\"Getir\"] = list(getir_df[\"Getir\"]) # add the data to the dataframe\n",
    "\n",
    "# Read the data\n",
    "yemek_tarifleri_data_loc = \"Data\\yemek_tarifleri.csv\"\n",
    "yemek_tarifleri_df = pd.read_csv(yemek_tarifleri_data_loc, skiprows = 1)\n",
    "yemek_tarifleri_df.columns = [\"Month\", \"Yemek Tarifleri\"]\n",
    "\n",
    "a[\"Yemek Tarifleri\"] = list(yemek_tarifleri_df[\"Yemek Tarifleri\"]) # add the data to the dataframe\n",
    "\n",
    "# Read the data\n",
    "market_fiyatları_data_loc = \"Data\\market_fiyatları.csv\"\n",
    "market_fiyatları_df = pd.read_csv(market_fiyatları_data_loc, skiprows = 1)\n",
    "market_fiyatları_df.columns = [\"Month\", \"Market Fiyatları\"]\n",
    "\n",
    "a[\"Market Fiyatları\"] = list(market_fiyatları_df[\"Market Fiyatları\"]) # add the data to the dataframe\n",
    "\n",
    "a.head()"
   ]
  },
  {
   "cell_type": "code",
   "execution_count": null,
   "metadata": {},
   "outputs": [],
   "source": [
    "# Plot the new data\n",
    "plt.figure(figsize=(10, 5))\n",
    "\n",
    "plt.plot(a[\"Trend\"], a[\"Getir\"], label=\"Getir\", color=\"red\")\n",
    "plt.plot(a[\"Trend\"], a[\"Yemek Tarifleri\"], label=\"Yemek Tarifleri\", color=\"green\")\n",
    "plt.plot(a[\"Trend\"], a[\"Market Fiyatları\"], label=\"Market Fiyatları\", color=\"blue\")\n",
    "\n",
    "plt.legend(loc=\"best\")\n",
    "\n",
    "plt.show()"
   ]
  },
  {
   "cell_type": "code",
   "execution_count": null,
   "metadata": {},
   "outputs": [],
   "source": [
    "# Model with additional data\n",
    "independent_set_7 = a[[\"const\", \"Unemployement\", \"Interest(2-14 days)\", \"Trend\", \"Yemeksepeti\", \"Getir\", \"Yemek Tarifleri\", \"Market Fiyatları\"] + year]\n",
    "\n",
    "lm = sm.OLS(a[\"Food Price Index\"], independent_set_7)\n",
    "result = lm.fit()\n",
    "print(result.summary())"
   ]
  },
  {
   "cell_type": "code",
   "execution_count": null,
   "metadata": {},
   "outputs": [],
   "source": [
    "# Plot the fitted values and the real values\n",
    "plt.figure(figsize=(13, 8))\n",
    "plt.plot(a[\"Trend\"], a[\"Food Price Index\"], label=\"Real Values\", color=\"blue\")\n",
    "plt.plot(a[\"Trend\"], result.fittedvalues, label=\"Fitted Values\", color=\"red\")\n",
    "plt.legend(loc=\"best\")\n",
    "plt.show()"
   ]
  },
  {
   "cell_type": "code",
   "execution_count": null,
   "metadata": {},
   "outputs": [],
   "source": [
    "# Check normality of the residuals\n",
    "result.resid.plot(kind=\"kde\", title=\"Residuals\", figsize=(10, 5))"
   ]
  },
  {
   "cell_type": "code",
   "execution_count": null,
   "metadata": {},
   "outputs": [],
   "source": [
    "# Check autocorrelation of the residuals\n",
    "residual = result.resid\n",
    "\n",
    "plt.figure(figsize = (12, 7))\n",
    "plt.scatter(df[\"Trend\"],residual, label = \"Residual\", color = \"blue\", s = 10)\n",
    "plt.title(\"Residuals of the Model\")\n",
    "\n",
    "plt.show()"
   ]
  },
  {
   "cell_type": "code",
   "execution_count": null,
   "metadata": {},
   "outputs": [],
   "source": [
    "plt.figure(figsize=(10, 6))  \n",
    "plt.acorr(residual, maxlags=len(residual)-1, usevlines = False, marker='o')\n",
    "plt.axhline(y=0.125, color='red', linestyle='--') \n",
    "plt.axhline(y=-0.125, color='red', linestyle='--') \n",
    "plt.title(\"Autocorrelation of Residuals\")\n",
    "plt.xlim(0, )\n",
    "plt.xlabel(\"Lag\")\n",
    "plt.ylabel(\"Autocorrelation\")\n",
    "plt.show()"
   ]
  },
  {
   "cell_type": "code",
   "execution_count": null,
   "metadata": {},
   "outputs": [],
   "source": [
    "# Delete variables\n",
    "del a, independent_set_1, independent_set_2, independent_set_3, independent_set_4, independent_set_5, independent_set_6, independent_set_7, lm, result, residual, best_set, independent_sets"
   ]
  },
  {
   "cell_type": "code",
   "execution_count": null,
   "metadata": {},
   "outputs": [],
   "source": [
    "a = df.copy()\n",
    "\n",
    "# Drop the columns which does not have a relation with the data in a sense\n",
    "a.drop([\"Yemeksepeti\", \"Kariyer.net\", \"Is_ilani\", \"Cigkofte\"], axis=1, inplace=True)  \n",
    "\n",
    "a.head()"
   ]
  },
  {
   "cell_type": "code",
   "execution_count": null,
   "metadata": {},
   "outputs": [],
   "source": [
    "# Plot the response variable\n",
    "plt.figure(figsize=(12, 8))\n",
    "plt.plot(a[\"Trend\"], a[\"Interest(2-14 days)\"], color=\"blue\")\n",
    "plt.show()"
   ]
  },
  {
   "cell_type": "code",
   "execution_count": null,
   "metadata": {},
   "outputs": [],
   "source": [
    "a = sm.add_constant(a) # Intercept term\n",
    "\n",
    "# Model with the columns which are related to the response variable by sense\n",
    "independent_set_1 = a[[\"const\", \"Faiz_Orani\", \"Unemployement\", \"Food Price Index\", \"Trend\", \"TCMB Faiz Orani\", \"Kredi Karti Borcu\"]]\n",
    "\n",
    "lm = sm.OLS(a[\"Interest(2-14 days)\"], independent_set_1)\n",
    "result = lm.fit()\n",
    "print(result.summary())"
   ]
  },
  {
   "cell_type": "code",
   "execution_count": null,
   "metadata": {},
   "outputs": [],
   "source": [
    "split_points = [\"2015-01\",\"2016-11\",\"2018-04\", \"2018-07\", \"2019-07\", \"2020-02\", \"2020-10\", \"2022-07\", \"2023-05\"] # Split points\n",
    "\n",
    "for i in range(1, len(split_points) - 1):\n",
    "    a[\"TCMB_\" + str(i)] = [0] * len(a)\n",
    "    \n",
    "for i in range(1, len(split_points)):\n",
    "    a[\"TCMB_\" + str(i)] = [1 if split_points[i-1] <= index and index < split_points[i] else 0 for index in a.index]\n",
    "\n",
    "a[\"TCMB_\" + str(len(split_points))] = [1 if split_points[-1] <= index else 0 for index in a.index]\n",
    "\n",
    "tcmb_lst = [\"TCMB_\" + str(i) for i in range(1, len(split_points))] # TCMB columns"
   ]
  },
  {
   "cell_type": "code",
   "execution_count": null,
   "metadata": {},
   "outputs": [],
   "source": [
    "# Model with splitted TCMB data\n",
    "independent_set_2 = a[[\"const\", \"Faiz_Orani\", \"Unemployement\", \"Food Price Index\", \"Trend\", \"TCMB Faiz Orani\", \"Kredi Karti Borcu\"] + tcmb_lst]\n",
    "\n",
    "lm = sm.OLS(a[\"Interest(2-14 days)\"], independent_set_2)\n",
    "result = lm.fit()\n",
    "print(result.summary())"
   ]
  },
  {
   "cell_type": "code",
   "execution_count": null,
   "metadata": {},
   "outputs": [],
   "source": [
    "plt.figure(figsize=(13, 8))\n",
    "plt.plot(a[\"Trend\"], a[\"Interest(2-14 days)\"], label=\"Real Values\", color=\"blue\")\n",
    "plt.plot(a[\"Trend\"], result.fittedvalues, label=\"Fitted Values\", color=\"red\")"
   ]
  },
  {
   "cell_type": "code",
   "execution_count": null,
   "metadata": {},
   "outputs": [],
   "source": [
    "plt.figure(figsize=(13, 8))\n",
    "plt.plot(a[\"Trend\"], a[\"Interest(2-14 days)\"], label=\"Real Values\", color=\"blue\")\n",
    "plt.plot(a[\"Trend\"], result.fittedvalues, label=\"Fitted Values\", color=\"red\")\n",
    "\n",
    "plt.axvline(x=45, color=\"black\", linestyle=\"--\", label=\"Trend Split Interval 1\")\n",
    "plt.axvline(x=55, color=\"black\", linestyle=\"--\", label=\"Trend Split Interval 1\")\n",
    "\n",
    "plt.axvline(x=100, color=\"green\", linestyle=\"--\", label=\"Trend Split Interval 2\")\n",
    "plt.axvline(x=len(a), color=\"green\", linestyle=\"--\", label=\"Trend Split Interval 2\")\n",
    "\n",
    "plt.axvline(x=73, color=\"orange\", linestyle=\"--\", label=\"Trend Split Interval 3\")\n",
    "plt.axvline(x=83, color=\"orange\", linestyle=\"--\", label=\"Trend Split Interval 3\")\n",
    "\n",
    "plt.axvline(x=23, color=\"purple\", linestyle=\"--\", label=\"Trend Split Interval 4\")\n",
    "plt.axvline(x=40, color=\"purple\", linestyle=\"--\", label=\"Trend Split Interval 4\")\n",
    "\n",
    "plt.legend(loc=\"best\")\n",
    "plt.show()"
   ]
  },
  {
   "cell_type": "code",
   "execution_count": null,
   "metadata": {},
   "outputs": [],
   "source": [
    "# New additions\n",
    "a[\"Trend_2\"] = [0] * 100 + list(range(1, len(a[\"Trend\"][100:]) + 1))\n",
    "a[\"Trend_3\"] = [0] * 45 + list(range(1, len(a[\"Trend\"][45:55]) + 1)) + [0]* 53\n",
    "a[\"Trend_4\"] = [0] * 73 + list(range(1, len(a[\"Trend\"][73:83]) + 1)) + [0]* 25\n",
    "a[\"Trend_5\"] = [0] * 23 + list(range(1, len(a[\"Trend\"][23:40]) + 1)) + [0]* 68\n",
    "\n",
    "trend_lst = [\"Trend_2\", \"Trend_3\", \"Trend_4\", \"Trend_5\"] # Trend columns"
   ]
  },
  {
   "cell_type": "code",
   "execution_count": null,
   "metadata": {},
   "outputs": [],
   "source": [
    "# Model with new data\n",
    "independent_set_3 = a[[\"const\", \"Faiz_Orani\", \"Unemployement\", \"Food Price Index\", \"Trend\", \"TCMB Faiz Orani\", \"Kredi Karti Borcu\"] + tcmb_lst + trend_lst]\n",
    "\n",
    "lm = sm.OLS(a[\"Interest(2-14 days)\"], independent_set_3)\n",
    "result = lm.fit()\n",
    "print(result.summary())"
   ]
  },
  {
   "cell_type": "code",
   "execution_count": null,
   "metadata": {},
   "outputs": [],
   "source": [
    "# Model after dropping the columns which are not significant\n",
    "independent_set_4 = a[[\"const\", \"Faiz_Orani\", \"Food Price Index\", \"Trend\", \"TCMB Faiz Orani\", \"Trend_2\", \"Trend_3\", \"Trend_4\"] + tcmb_lst + trend_lst]\n",
    "\n",
    "lm = sm.OLS(a[\"Interest(2-14 days)\"], independent_set_4)\n",
    "result = lm.fit()\n",
    "print(result.summary())"
   ]
  },
  {
   "cell_type": "code",
   "execution_count": null,
   "metadata": {},
   "outputs": [],
   "source": [
    "# Compare all of the models\n",
    "independent_sets = [independent_set_1, independent_set_2, independent_set_3, independent_set_4]\n",
    "results_test = []\n",
    "results_train = []\n",
    "\n",
    "for set in independent_sets:\n",
    "    train = []\n",
    "    test = []\n",
    "    for _ in range(1000): # 1000 times to get a more stable result\n",
    "        X_train, X_test, y_train, y_test = train_test_split(set, a[\"Interest(2-14 days)\"], test_size=0.2) # split the data into train and test\n",
    "        lm = sm.OLS(y_train, X_train)\n",
    "        result = lm.fit()\n",
    "        #MSE\n",
    "        train.append(np.mean(result.resid ** 2))\n",
    "        test.append(np.mean((result.predict(X_test) - y_test) ** 2))\n",
    "        \n",
    "    results_train.append(np.mean(train)) \n",
    "    results_test.append(np.mean(test))\n",
    "\n",
    "plt.figure(figsize=(10, 5))\n",
    "plt.plot(range(1, 5), results_train, label=\"Train\")\n",
    "plt.plot(range(1, 5), results_test, label=\"Test\")\n",
    "plt.legend(loc=\"best\")\n",
    "plt.show()"
   ]
  },
  {
   "cell_type": "code",
   "execution_count": null,
   "metadata": {},
   "outputs": [],
   "source": [
    "best_set = independent_set_4.copy()\n",
    "\n",
    "lm = sm.OLS(a[\"Interest(2-14 days)\"], best_set)\n",
    "result = lm.fit()\n",
    "print(result.summary())"
   ]
  },
  {
   "cell_type": "code",
   "execution_count": null,
   "metadata": {},
   "outputs": [],
   "source": [
    "plt.figure(figsize=(13, 8))\n",
    "plt.plot(a[\"Trend\"], a[\"Interest(2-14 days)\"], label=\"Real Values\", color=\"blue\")\n",
    "plt.plot(a[\"Trend\"], result.fittedvalues, label=\"Fitted Values\", color=\"red\")\n",
    "plt.legend(loc=\"best\")\n",
    "plt.show()"
   ]
  },
  {
   "cell_type": "code",
   "execution_count": null,
   "metadata": {},
   "outputs": [],
   "source": [
    "result.resid.plot(kind=\"kde\", title=\"Residuals\", figsize=(10, 5))"
   ]
  },
  {
   "cell_type": "code",
   "execution_count": null,
   "metadata": {},
   "outputs": [],
   "source": [
    "residual = result.resid\n",
    "\n",
    "plt.figure(figsize = (12, 7))\n",
    "plt.scatter(df[\"Trend\"],residual, label = \"Residual\", color = \"blue\", s = 10)\n",
    "plt.title(\"Residuals of the Model\")\n",
    "\n",
    "plt.show()"
   ]
  },
  {
   "cell_type": "code",
   "execution_count": null,
   "metadata": {},
   "outputs": [],
   "source": [
    "plt.figure(figsize=(10, 6))  \n",
    "plt.acorr(residual, maxlags=len(residual)-1, usevlines = False, marker='o')\n",
    "plt.axhline(y=0.125, color='red', linestyle='--') \n",
    "plt.axhline(y=-0.125, color='red', linestyle='--') \n",
    "plt.title(\"Autocorrelation of Residuals\")\n",
    "plt.xlim(0, )\n",
    "plt.xlabel(\"Lag\")\n",
    "plt.ylabel(\"Autocorrelation\")\n",
    "plt.show()"
   ]
  }
 ],
 "metadata": {
  "kernelspec": {
   "display_name": "Python 3",
   "language": "python",
   "name": "python3"
  },
  "language_info": {
   "codemirror_mode": {
    "name": "ipython",
    "version": 3
   },
   "file_extension": ".py",
   "mimetype": "text/x-python",
   "name": "python",
   "nbconvert_exporter": "python",
   "pygments_lexer": "ipython3",
   "version": "3.10.1"
  }
 },
 "nbformat": 4,
 "nbformat_minor": 2
}
